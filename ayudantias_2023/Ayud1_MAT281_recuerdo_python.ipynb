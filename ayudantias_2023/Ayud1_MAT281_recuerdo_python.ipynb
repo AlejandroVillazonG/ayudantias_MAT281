{
  "cells": [
    {
      "cell_type": "markdown",
      "metadata": {
        "id": "view-in-github",
        "colab_type": "text"
      },
      "source": [
        "<a href=\"https://colab.research.google.com/github/AlejandroVillazonG/ayudantias_MAT281/blob/main/ayudantias_2023/Ayud1_MAT281_recuerdo_python.ipynb\" target=\"_parent\"><img src=\"https://colab.research.google.com/assets/colab-badge.svg\" alt=\"Open In Colab\"/></a>"
      ]
    },
    {
      "cell_type": "markdown",
      "metadata": {
        "id": "0-EN3b4BzL33"
      },
      "source": [
        "<center><img src=\"https://matematica.usm.cl/wp-content/themes/dmatUSM/assets/img/logoDMAT2.png\" title=\"Title text\" width= 800 /></center>\n",
        "<hr style=\"height:2px;border:none\"/>\n",
        "<h1 align='center'> Ayudantía 1: Recuerdo Python</h1>\n",
        "\n",
        "<H3 align='center'> MAT281 2023-2 </H3>\n",
        "\n",
        "<H3 align='center'> Ayud. Alejandro Villazón G. </H3>\n",
        "<hr style=\"height:2px;border:none\"/>"
      ]
    },
    {
      "cell_type": "markdown",
      "metadata": {
        "id": "ZEo5wRwtzL4A"
      },
      "source": [
        "En esta ayudantía repasaremos algunos conceptos de Python que probablemente ya conoces, pero te servirá para familiarizarte con Jupyter Notebook y refrescar un poco la memoria."
      ]
    },
    {
      "cell_type": "markdown",
      "metadata": {
        "id": "_LMU1RNBzL4B"
      },
      "source": [
        "Antes de comenzar, para trabajar con este tipo de archivos (.ipynb) conozco dos opciones sencillas:\n",
        "* __Google Colaboratory__: No necesitas descargar nada, solo subir los archivos a Google Drive y ya puedes comenzar a trabajar!\n",
        "* __Jupyter Notebook__: Necesitas descargar el programa, es sencillo, ingresa al siguiente [LINK](https://www.anaconda.com/products/distribution) y descarga e instala Anaconda Distribution, dentro de ese paquete se encuentra Jupyter Notebook."
      ]
    },
    {
      "cell_type": "markdown",
      "metadata": {
        "id": "B37eUnOZzL4C"
      },
      "source": [
        "# Python Notebooks"
      ]
    },
    {
      "cell_type": "markdown",
      "metadata": {
        "id": "U0Ul4MB2zL4D"
      },
      "source": [
        "Los python notebooks (.ipynb) se componen de celdas, hay dos tipos principales:\n",
        "* __Markdown__\n",
        "* __Code__\n",
        "\n",
        "Además, estas celdas poseen dos modos actualmente, de edición y comandos. Dependiendo del modo que se encuentre activo el teclado realiza diferentes cosas."
      ]
    },
    {
      "cell_type": "markdown",
      "metadata": {
        "id": "yY_uKaMpzL4E"
      },
      "source": [
        "Si trabajas en Jupyter Notebook hay otras cosas útiles que debes saber para trabajar utilizando notebooks:\n",
        "\n",
        "* __File__: En él, puede crear un nuevo cuaderno o abrir uno preexistente. Aquí es también a donde iría para cambiar el nombre de un Cuaderno. Creo que el elemento de menú más interesante es la opción Guardar y Checkpoint. Esto le permite crear puntos de control a los que puede retroceder si lo necesita.\n",
        "\n",
        "\n",
        "* **Edit**: Aquí puede cortar, copiar y pegar celdas. Aquí también es donde irías si quisieras eliminar, dividir o fusionar una celda. Puede reordenar celdas aquí también.\n",
        "\n",
        "\n",
        "* **View**: es útil para alternar la visibilidad del encabezado y la barra de herramientas. También puede activar o desactivar los números de línea dentro de las celdas. Aquí también es donde irías si quieres meterte con la barra de herramientas de la celda.\n",
        "\n",
        "\n",
        "* **Insert**: es solo para insertar celdas encima o debajo de la celda seleccionada actualmente.\n",
        "\n",
        "\n",
        "* **Cell**: le permite ejecutar una celda, un grupo de celdas o todas las celdas. También puede ir aquí para cambiar el tipo de celda, aunque personalmente considero que la barra de herramientas es más intuitiva para eso.\n",
        "\n",
        "\n",
        "* **Kernel**: es para trabajar con el kernel que se ejecuta en segundo plano. Aquí puede reiniciar el kernel, volver a conectarlo, apagarlo o incluso cambiar el kernel que está utilizando su computadora portátil.\n",
        "\n",
        "\n",
        "* **Widgets**: es para guardar y borrar el estado del widget. Los widgets son básicamente widgets de JavaScript que puede agregar a sus celdas para crear contenido dinámico utilizando Python (u otro Kernel).\n",
        "\n",
        "\n",
        "* **Help**: es donde debe aprender sobre los atajos de teclado del Notebook, un recorrido por la interfaz de usuario y mucho material de referencia.\n"
      ]
    },
    {
      "cell_type": "markdown",
      "metadata": {
        "id": "_-t-btt6zL4F"
      },
      "source": [
        "## Markdown\n",
        "\n",
        "Los notebooks de Python permiten que escribamos texto formateado, es decir, texto con cursiva, negritas, títulos de distintos tamaños, etc., de forma simple. Esto permite que nuestros códigos sean fácil de entender para un tercero. Para ello usamos *Markdown*, que es un lenguaje de marcado (markup) muy popular.\n",
        "\n",
        "Los lenguajes de markup son lenguajes ideados para procesar texto, algunos de los más conocidos son [HTML](https://es.wikipedia.org/wiki/HTML) y $\\LaTeX$. *Markdown* tiene como objetivo ser un lenguaje de sintaxis minimalista, simple de aprender y usar; de esa forma uno puede dar formato al texto pero sin perder demasiado tiempo en los detalles.\n",
        "\n",
        "La cantidad de [tutoriales](https://joedicastro.com/pages/markdown.html) en la red sobre *Markdown* es inmenso, por lo que nos centraremos en indicar las opciones que más se utilizan.\n",
        "\n",
        "* **Texto en negrita/cursiva**: El texto en negrita se indica entre dos pares de asteriscos. De este modo `**palabra**` aparecerá como **palabra**. Por otro lado, el texto en cursiva se indica entre dos asteriscos simples; es decir `*palabra*` aparecerá como *palabra*. También puedes reemplazar los `*` por `_` y obtendrás el mismo resultado.\n",
        "\n",
        "\n",
        "* **Listas**: Las listas en *Markdown* se realizan indicando un asterisco o un número seguido de un punto si se desean listas numeradas. *Markdown* organiza automáticamente los items asignándoles el número correcto.\n",
        "\n",
        "\n",
        "* **Inclusión de imágenes**: La sintaxis para incluir imágenes en Markdown es `![nombre alternativo](dirección de la imagen)` en donde el nombre alternativo aparecerá en caso de que no se pueda cargar la imagen y la dirección puede referirse a una imagen local o un enlace en Internet.\n",
        "\n",
        "\n",
        "* **Inclusión de código HTML**: El lenguaje *Markdown* es un subconjunto del lenguaje HTML y en donde se necesite un mayor control del formato, se puede incluir directamente el código HTML.\n",
        "\n",
        "\n",
        "* **Enlaces**: Las celdas de texto pueden contener enlaces, tanto a otras partes del documento, como a páginas en internet u otros archivos locales. Su sintaxis es `[texto](dirección del enlace)`.\n",
        "\n",
        "\n",
        "* **Fórmulas matemáticas**: Gracias al uso de *MathJax*, se puede incluir código en $\\LaTeX$ para mostrar todo tipo de fórmulas y expresiones matemáticas. Las fórmulas dentro de una línea de texto se escriben entre símbolos de dólar `$...$`, mientras que las expresiones separadas del texto utilizan símbolos de dólar dobles `$$...$$`. Puedes usar todo lo que ya sabes de $\\LaTeX$!, a continuación te presento unos ejemplos:"
      ]
    },
    {
      "cell_type": "markdown",
      "metadata": {
        "id": "JLRBl36vzL4I"
      },
      "source": [
        "$$p(x) = 3x^2 + y^2 + 2x^2y^2 + 7xy$$"
      ]
    },
    {
      "cell_type": "markdown",
      "metadata": {
        "id": "WosZanEBzL4J"
      },
      "source": [
        "$$e^{\\pi i} - 1 = 0$$"
      ]
    },
    {
      "cell_type": "markdown",
      "metadata": {
        "id": "GssyNfDAzL4K"
      },
      "source": [
        "$$\\lim_{x \\rightarrow \\infty} \\frac{7x+2}{2x} = 3.5$$"
      ]
    },
    {
      "cell_type": "markdown",
      "metadata": {
        "id": "EHbyuWL0zL4L"
      },
      "source": [
        "$$\\sum_{n=1}^\\infty\\frac{1}{n^2}$$"
      ]
    },
    {
      "cell_type": "markdown",
      "metadata": {
        "id": "6GyISVN8zL4M"
      },
      "source": [
        "$$\\int_0^\\infty\\frac{\\sin x}{x}\\,\\mathrm{d}x=\\frac{\\pi}{2}$$"
      ]
    },
    {
      "cell_type": "markdown",
      "metadata": {
        "id": "oJfK4laSzL4M"
      },
      "source": [
        "$$R^2 =\n",
        "\\begin{pmatrix} c & s \\end{pmatrix}\n",
        "\\begin{pmatrix} 1 & 0\\\\ 0 & 1 \\end{pmatrix}\n",
        "\\begin{pmatrix} c \\\\ s \\end{pmatrix}\n",
        "= c^2 + s^2$$"
      ]
    },
    {
      "cell_type": "markdown",
      "metadata": {
        "id": "f0D3ee8qzL4M"
      },
      "source": [
        "\n",
        "$$\n",
        "u'-\\Delta u = f \\quad \\text{in } \\Omega,\\\\\n",
        "u=0 \\quad \\text{in } \\Gamma,\\\\\n",
        "u(t=0) = u_0.\n",
        "$$"
      ]
    },
    {
      "cell_type": "markdown",
      "metadata": {
        "id": "FsHn3tIIzL4N"
      },
      "source": [
        "## Code\n",
        "### Hola Mundo!"
      ]
    },
    {
      "cell_type": "markdown",
      "metadata": {
        "id": "FEI8adeEzL4N"
      },
      "source": [
        "_Imprimir_ texto es tan fácil como:"
      ]
    },
    {
      "cell_type": "code",
      "execution_count": null,
      "metadata": {
        "id": "bIgfX61_zL4N",
        "outputId": "d4593ee9-9ef8-4c95-9361-c8d0912f2b31"
      },
      "outputs": [
        {
          "name": "stdout",
          "output_type": "stream",
          "text": [
            "Hello World!\n"
          ]
        }
      ],
      "source": [
        "print('Hello World!')"
      ]
    },
    {
      "cell_type": "code",
      "execution_count": null,
      "metadata": {
        "id": "VzEJrF9gzL4Q"
      },
      "outputs": [],
      "source": [
        "name = 'Francisco'"
      ]
    },
    {
      "cell_type": "markdown",
      "metadata": {
        "id": "YqsVIuO7zL4R"
      },
      "source": [
        "Cuando escribes texto entre comillas, simples `'` o dobles `\"` la variable pasa a ser de tipo `str` (_string_)."
      ]
    },
    {
      "cell_type": "code",
      "execution_count": null,
      "metadata": {
        "id": "uTXenSRGzL4R",
        "outputId": "12b4193d-4c3d-44de-a53d-3cf77ef8c326"
      },
      "outputs": [
        {
          "data": {
            "text/plain": [
              "str"
            ]
          },
          "execution_count": 3,
          "metadata": {},
          "output_type": "execute_result"
        }
      ],
      "source": [
        "type(name)"
      ]
    },
    {
      "cell_type": "markdown",
      "metadata": {
        "id": "Nt77cE7EzL4S"
      },
      "source": [
        "Guardar variables de string te permite, entre otras cosas, parametrizar mensajes, títulos, etc."
      ]
    },
    {
      "cell_type": "code",
      "execution_count": null,
      "metadata": {
        "id": "NU3l9N5vzL4S",
        "outputId": "fc34ed5f-1b5f-4f19-e244-6a24976052a9"
      },
      "outputs": [
        {
          "name": "stdout",
          "output_type": "stream",
          "text": [
            "Hola Francisco!, como estas?\n"
          ]
        }
      ],
      "source": [
        "print(\"Hola {}!, {} estas?\".format(name, \"como\"))"
      ]
    },
    {
      "cell_type": "markdown",
      "metadata": {
        "id": "XbY9ZMVTzL4T"
      },
      "source": [
        "Desde Python 3.6 también puedes hacer uso de los [_f-strings_](https://docs.python.org/3/reference/lexical_analysis.html#f-strings)"
      ]
    },
    {
      "cell_type": "code",
      "execution_count": null,
      "metadata": {
        "id": "s5IGlwPTzL4T",
        "outputId": "b62471ea-11eb-49e0-f872-d799370aa473"
      },
      "outputs": [
        {
          "name": "stdout",
          "output_type": "stream",
          "text": [
            "Hola Francisco!, como estas\n"
          ]
        }
      ],
      "source": [
        "print(f\"Hola {name}!, como estas\")"
      ]
    },
    {
      "cell_type": "markdown",
      "metadata": {
        "id": "hkGPkyQAzL4U"
      },
      "source": [
        "Parece una herramienta simple, pero que con uso adecuado puede ser muy útil, más adelante veremos más ejemplos."
      ]
    },
    {
      "cell_type": "markdown",
      "metadata": {
        "id": "gOVSJc_ozL4U"
      },
      "source": [
        "Los strings poseen métodos propios, por ejemplo"
      ]
    },
    {
      "cell_type": "code",
      "execution_count": null,
      "metadata": {
        "id": "DEUkU455zL4U",
        "outputId": "48de107b-dd41-4b57-f3cb-238270e5a8ac"
      },
      "outputs": [
        {
          "name": "stdout",
          "output_type": "stream",
          "text": [
            "Francisco\n"
          ]
        }
      ],
      "source": [
        "print(name.capitalize())"
      ]
    },
    {
      "cell_type": "code",
      "execution_count": null,
      "metadata": {
        "id": "xgJK-xehzL4U",
        "outputId": "205dd894-d859-4828-d5a5-d8ba3306b443"
      },
      "outputs": [
        {
          "name": "stdout",
          "output_type": "stream",
          "text": [
            "1\n"
          ]
        }
      ],
      "source": [
        "print(name.count('o'))"
      ]
    },
    {
      "cell_type": "markdown",
      "metadata": {
        "id": "gKBRqPp1zL4V"
      },
      "source": [
        "```{tip}\n",
        "Para ver los métodos y atributos de una instancia basta con utilizar `dir(variable)`.\n",
        "```"
      ]
    },
    {
      "cell_type": "code",
      "execution_count": null,
      "metadata": {
        "id": "DXZtLQkczL4V",
        "outputId": "894223d6-ea16-4d13-e570-ccb528323faa"
      },
      "outputs": [
        {
          "data": {
            "text/plain": [
              "['__add__',\n",
              " '__class__',\n",
              " '__contains__',\n",
              " '__delattr__',\n",
              " '__dir__',\n",
              " '__doc__',\n",
              " '__eq__',\n",
              " '__format__',\n",
              " '__ge__',\n",
              " '__getattribute__',\n",
              " '__getitem__',\n",
              " '__getnewargs__',\n",
              " '__getstate__',\n",
              " '__gt__',\n",
              " '__hash__',\n",
              " '__init__',\n",
              " '__init_subclass__',\n",
              " '__iter__',\n",
              " '__le__',\n",
              " '__len__',\n",
              " '__lt__',\n",
              " '__mod__',\n",
              " '__mul__',\n",
              " '__ne__',\n",
              " '__new__',\n",
              " '__reduce__',\n",
              " '__reduce_ex__',\n",
              " '__repr__',\n",
              " '__rmod__',\n",
              " '__rmul__',\n",
              " '__setattr__',\n",
              " '__sizeof__',\n",
              " '__str__',\n",
              " '__subclasshook__',\n",
              " 'capitalize',\n",
              " 'casefold',\n",
              " 'center',\n",
              " 'count',\n",
              " 'encode',\n",
              " 'endswith',\n",
              " 'expandtabs',\n",
              " 'find',\n",
              " 'format',\n",
              " 'format_map',\n",
              " 'index',\n",
              " 'isalnum',\n",
              " 'isalpha',\n",
              " 'isascii',\n",
              " 'isdecimal',\n",
              " 'isdigit',\n",
              " 'isidentifier',\n",
              " 'islower',\n",
              " 'isnumeric',\n",
              " 'isprintable',\n",
              " 'isspace',\n",
              " 'istitle',\n",
              " 'isupper',\n",
              " 'join',\n",
              " 'ljust',\n",
              " 'lower',\n",
              " 'lstrip',\n",
              " 'maketrans',\n",
              " 'partition',\n",
              " 'removeprefix',\n",
              " 'removesuffix',\n",
              " 'replace',\n",
              " 'rfind',\n",
              " 'rindex',\n",
              " 'rjust',\n",
              " 'rpartition',\n",
              " 'rsplit',\n",
              " 'rstrip',\n",
              " 'split',\n",
              " 'splitlines',\n",
              " 'startswith',\n",
              " 'strip',\n",
              " 'swapcase',\n",
              " 'title',\n",
              " 'translate',\n",
              " 'upper',\n",
              " 'zfill']"
            ]
          },
          "execution_count": 11,
          "metadata": {},
          "output_type": "execute_result"
        }
      ],
      "source": [
        "dir(name)"
      ]
    },
    {
      "cell_type": "code",
      "execution_count": null,
      "metadata": {
        "id": "mpjkUDFzzL4V",
        "outputId": "90da2244-67e4-44a9-ec40-62d0f525a8c6"
      },
      "outputs": [
        {
          "name": "stdout",
          "output_type": "stream",
          "text": [
            "Hola \tcomo estas\n"
          ]
        }
      ],
      "source": [
        "a = \"\\tHola \\tcomo estas\\n\"\n",
        "print(a.strip())"
      ]
    },
    {
      "cell_type": "markdown",
      "metadata": {
        "id": "b756tk0qzL4W"
      },
      "source": [
        "```{tip}\n",
        "En Jupyter, no siempre es necesario utilizar print en cada celda.\n",
        "```"
      ]
    },
    {
      "cell_type": "code",
      "execution_count": null,
      "metadata": {
        "id": "GJzXlHn3zL4W",
        "outputId": "c0595f1d-c4fe-43e6-e619-3501bb731f89"
      },
      "outputs": [
        {
          "data": {
            "text/plain": [
              "'\\tHola \\tcomo estas\\n'"
            ]
          },
          "execution_count": 13,
          "metadata": {},
          "output_type": "execute_result"
        }
      ],
      "source": [
        "a"
      ]
    },
    {
      "cell_type": "markdown",
      "metadata": {
        "id": "2PCRkVPxzL4X"
      },
      "source": [
        "### Números y operaciones"
      ]
    },
    {
      "cell_type": "markdown",
      "metadata": {
        "id": "qfGywDtbzL4X"
      },
      "source": [
        "Un pequeño recuerdo de las operaciones matemáticas más comunes."
      ]
    },
    {
      "cell_type": "code",
      "execution_count": null,
      "metadata": {
        "id": "g-Y01CjDzL4X",
        "outputId": "a2ef78bb-e94f-464c-c26b-4e76fb348b09"
      },
      "outputs": [
        {
          "data": {
            "text/plain": [
              "3"
            ]
          },
          "execution_count": 14,
          "metadata": {},
          "output_type": "execute_result"
        }
      ],
      "source": [
        "1 + 2  # Suma"
      ]
    },
    {
      "cell_type": "code",
      "execution_count": null,
      "metadata": {
        "id": "Nj-sXXnuzL4X",
        "outputId": "e572ac8a-9601-4d92-b904-5adf20e69d41"
      },
      "outputs": [
        {
          "data": {
            "text/plain": [
              "1"
            ]
          },
          "execution_count": 15,
          "metadata": {},
          "output_type": "execute_result"
        }
      ],
      "source": [
        "100 - 99  # Resta"
      ]
    },
    {
      "cell_type": "code",
      "execution_count": null,
      "metadata": {
        "id": "DmQfODdCzL4Y",
        "outputId": "024c0a96-8ac7-46ca-9674-14f030962175"
      },
      "outputs": [
        {
          "data": {
            "text/plain": [
              "12"
            ]
          },
          "execution_count": 16,
          "metadata": {},
          "output_type": "execute_result"
        }
      ],
      "source": [
        "3 * 4  # Multiplicación"
      ]
    },
    {
      "cell_type": "code",
      "execution_count": null,
      "metadata": {
        "id": "2TLQFkAYzL4Y",
        "outputId": "55d2628b-18c3-4071-bd38-5f06f4e0572d"
      },
      "outputs": [
        {
          "data": {
            "text/plain": [
              "10.5"
            ]
          },
          "execution_count": 17,
          "metadata": {},
          "output_type": "execute_result"
        }
      ],
      "source": [
        "42 / 4  # División"
      ]
    },
    {
      "cell_type": "code",
      "execution_count": null,
      "metadata": {
        "id": "K6MbMQxxzL4h",
        "outputId": "4ed72aa5-f92e-412f-a8e6-3e6e01503a4d"
      },
      "outputs": [
        {
          "data": {
            "text/plain": [
              "10"
            ]
          },
          "execution_count": 18,
          "metadata": {},
          "output_type": "execute_result"
        }
      ],
      "source": [
        "43 // 4  # División parte entera"
      ]
    },
    {
      "cell_type": "code",
      "execution_count": null,
      "metadata": {
        "id": "3x1XGWjpzL4h",
        "outputId": "e9caec4c-e010-4a90-ae32-8eb576a45063"
      },
      "outputs": [
        {
          "data": {
            "text/plain": [
              "2"
            ]
          },
          "execution_count": 19,
          "metadata": {},
          "output_type": "execute_result"
        }
      ],
      "source": [
        "14 % 4  # Operación módulo"
      ]
    },
    {
      "cell_type": "code",
      "execution_count": null,
      "metadata": {
        "id": "_QY_1VnpzL4i",
        "outputId": "ae6587a4-32ae-496d-9747-7177029d4ce1"
      },
      "outputs": [
        {
          "data": {
            "text/plain": [
              "1024"
            ]
          },
          "execution_count": 20,
          "metadata": {},
          "output_type": "execute_result"
        }
      ],
      "source": [
        "4 ** 5 # Potencias"
      ]
    },
    {
      "cell_type": "markdown",
      "metadata": {
        "id": "_qf2UITRzL4i"
      },
      "source": [
        "### Listas, tuplas, conjuntos y diccionarios"
      ]
    },
    {
      "cell_type": "markdown",
      "metadata": {
        "id": "FXZKHsr5zL4i"
      },
      "source": [
        "Listas, tuplas y conjuntos son colecciones de objetos en Python que poseen ligeras diferencias. Comencemos con las listas que son probablemente las que resultan más naturales."
      ]
    },
    {
      "cell_type": "code",
      "execution_count": null,
      "metadata": {
        "id": "Rtm2u3aPzL4i",
        "outputId": "709b1d6b-d528-4492-fbc9-de48fb295865"
      },
      "outputs": [
        {
          "name": "stdout",
          "output_type": "stream",
          "text": [
            "1\n"
          ]
        }
      ],
      "source": [
        "# Listas\n",
        "my_list = [1, 2, 3, 4]\n",
        "print(my_list[0])"
      ]
    },
    {
      "cell_type": "code",
      "execution_count": null,
      "metadata": {
        "id": "Ccq7c_7EzL4j",
        "outputId": "8d1781a0-a0d8-41c9-9d60-0597ebcd4fc0"
      },
      "outputs": [
        {
          "data": {
            "text/plain": [
              "list"
            ]
          },
          "execution_count": 22,
          "metadata": {},
          "output_type": "execute_result"
        }
      ],
      "source": [
        "type(my_list)"
      ]
    },
    {
      "cell_type": "markdown",
      "metadata": {
        "id": "NSsWkLppzL4j"
      },
      "source": [
        "Puedes acceder a los elementos de tu lista utilizando los corchetes cuadrados `[]`. Recuerda que los índices comienzan en 0."
      ]
    },
    {
      "cell_type": "code",
      "execution_count": null,
      "metadata": {
        "id": "DYtCOhvizL4j",
        "outputId": "aae56880-af88-4c18-f31a-a3246828b188"
      },
      "outputs": [
        {
          "name": "stdout",
          "output_type": "stream",
          "text": [
            "1\n",
            "3\n",
            "[1, 2]\n",
            "[3, 4]\n",
            "[1, 3]\n",
            "[1, 2]\n"
          ]
        }
      ],
      "source": [
        "print(my_list[0])\n",
        "print(my_list[-2])\n",
        "print(my_list[0:2])\n",
        "print(my_list[2:])\n",
        "print(my_list[::2])\n",
        "print(my_list[:-2])"
      ]
    },
    {
      "cell_type": "markdown",
      "metadata": {
        "id": "rpgKswd8zL4j"
      },
      "source": [
        "Recuerda que si quieres invertir una lista basta con el siguiente código:"
      ]
    },
    {
      "cell_type": "code",
      "execution_count": null,
      "metadata": {
        "id": "Wg1jQTvszL4j",
        "outputId": "b74f4d8b-991d-4497-f450-71f1064359d3"
      },
      "outputs": [
        {
          "data": {
            "text/plain": [
              "[4, 3, 2, 1]"
            ]
          },
          "execution_count": 24,
          "metadata": {},
          "output_type": "execute_result"
        }
      ],
      "source": [
        "my_list[::-1]"
      ]
    },
    {
      "cell_type": "markdown",
      "metadata": {
        "id": "0bhu1SWlzL4k"
      },
      "source": [
        "Las tuplas en un comienzo se ven muy parecidas a las listas"
      ]
    },
    {
      "cell_type": "code",
      "execution_count": null,
      "metadata": {
        "id": "reThJc2FzL4k",
        "outputId": "5e38836a-c268-4897-9f29-9db17a235a1f"
      },
      "outputs": [
        {
          "name": "stdout",
          "output_type": "stream",
          "text": [
            "5\n"
          ]
        }
      ],
      "source": [
        "my_tuple = (1, 2, 3, 4, 5)\n",
        "print(my_tuple[4])"
      ]
    },
    {
      "cell_type": "code",
      "execution_count": null,
      "metadata": {
        "id": "ZrOkeV-8zL4k",
        "outputId": "f138d377-fc3d-4ca2-bdb4-c14107e07c0b"
      },
      "outputs": [
        {
          "data": {
            "text/plain": [
              "tuple"
            ]
          },
          "execution_count": 27,
          "metadata": {},
          "output_type": "execute_result"
        }
      ],
      "source": [
        "type(my_tuple)"
      ]
    },
    {
      "cell_type": "markdown",
      "metadata": {
        "id": "qaq3LXHMzL4l"
      },
      "source": [
        "Las listas pueden ser modificadas"
      ]
    },
    {
      "cell_type": "code",
      "execution_count": null,
      "metadata": {
        "id": "yehIBwX4zL4l",
        "outputId": "b213a13e-9e87-4265-f5f6-456345ce669d"
      },
      "outputs": [
        {
          "data": {
            "text/plain": [
              "[1, 2, 3, 4, 100]"
            ]
          },
          "execution_count": 28,
          "metadata": {},
          "output_type": "execute_result"
        }
      ],
      "source": [
        "my_list.append(100) # Agregar elemento al final\n",
        "my_list"
      ]
    },
    {
      "cell_type": "code",
      "execution_count": null,
      "metadata": {
        "id": "TgNnVcBjzL4l",
        "outputId": "a5bd0abc-6cd1-4bb5-ea3e-3dce72d572bd"
      },
      "outputs": [
        {
          "data": {
            "text/plain": [
              "[100, 4, 3, 2, 1]"
            ]
          },
          "execution_count": 31,
          "metadata": {},
          "output_type": "execute_result"
        }
      ],
      "source": [
        "my_list.sort(reverse = True) # Ordenar lista de forma descendente, por defecto es ascendente.\n",
        "my_list"
      ]
    },
    {
      "cell_type": "code",
      "execution_count": null,
      "metadata": {
        "id": "ek__hSGbzL4m",
        "outputId": "ef9ed953-e3f0-4f9c-8544-0fbc0efbb3af"
      },
      "outputs": [
        {
          "data": {
            "text/plain": [
              "[100, 42, 3, 2, 1]"
            ]
          },
          "execution_count": 32,
          "metadata": {},
          "output_type": "execute_result"
        }
      ],
      "source": [
        "my_list[1] = 42 #Modificar directamente el segundo valor\n",
        "my_list"
      ]
    },
    {
      "cell_type": "markdown",
      "metadata": {
        "id": "YbbJB3_wzL4m"
      },
      "source": [
        "Pero las tuplas no"
      ]
    },
    {
      "cell_type": "code",
      "execution_count": null,
      "metadata": {
        "tags": [
          "raises-exception"
        ],
        "id": "AulMiaNBzL4n",
        "outputId": "2932debf-d834-4d7c-c546-46cab7afe618"
      },
      "outputs": [
        {
          "ename": "TypeError",
          "evalue": "'tuple' object does not support item assignment",
          "output_type": "error",
          "traceback": [
            "\u001b[1;31m---------------------------------------------------------------------------\u001b[0m",
            "\u001b[1;31mTypeError\u001b[0m                                 Traceback (most recent call last)",
            "Cell \u001b[1;32mIn[33], line 1\u001b[0m\n\u001b[1;32m----> 1\u001b[0m my_tuple[\u001b[39m1\u001b[39;49m] \u001b[39m=\u001b[39m \u001b[39m42\u001b[39m\n",
            "\u001b[1;31mTypeError\u001b[0m: 'tuple' object does not support item assignment"
          ]
        }
      ],
      "source": [
        "my_tuple[1] = 42"
      ]
    },
    {
      "cell_type": "code",
      "execution_count": null,
      "metadata": {
        "id": "Gi2GZL1QzL4n",
        "outputId": "bd672def-f01f-4a1b-deee-c390cfb8ac3b"
      },
      "outputs": [
        {
          "ename": "AttributeError",
          "evalue": "'tuple' object has no attribute 'append'",
          "output_type": "error",
          "traceback": [
            "\u001b[1;31m---------------------------------------------------------------------------\u001b[0m",
            "\u001b[1;31mAttributeError\u001b[0m                            Traceback (most recent call last)",
            "Cell \u001b[1;32mIn[34], line 2\u001b[0m\n\u001b[0;32m      1\u001b[0m \u001b[39m# Las tuplas son objetos inmutables!\u001b[39;00m\n\u001b[1;32m----> 2\u001b[0m my_tuple\u001b[39m.\u001b[39;49mappend(\u001b[39m50\u001b[39m)\n",
            "\u001b[1;31mAttributeError\u001b[0m: 'tuple' object has no attribute 'append'"
          ]
        }
      ],
      "source": [
        "# Las tuplas son objetos inmutables!\n",
        "my_tuple.append(50)"
      ]
    },
    {
      "cell_type": "markdown",
      "metadata": {
        "id": "duROJCOtzL4o"
      },
      "source": [
        "Los conjuntos (_sets_) son colecciones que no considerar elementos repetidos."
      ]
    },
    {
      "cell_type": "code",
      "execution_count": null,
      "metadata": {
        "id": "Lws7UFvUzL4o",
        "outputId": "c75d8d3a-cfef-48f5-9f3d-155102083dba"
      },
      "outputs": [
        {
          "name": "stdout",
          "output_type": "stream",
          "text": [
            "{1, 2, 3}\n"
          ]
        }
      ],
      "source": [
        "# Conjuntos\n",
        "my_set = {1, 1, 1, 2, 2, 3}\n",
        "print(my_set)"
      ]
    },
    {
      "cell_type": "markdown",
      "metadata": {
        "id": "a8xr5TMgzL4p"
      },
      "source": [
        "En ocasiones son útiles para eliminar elementos repetidos de una lista:"
      ]
    },
    {
      "cell_type": "code",
      "execution_count": null,
      "metadata": {
        "id": "KRUTZhPozL4p",
        "outputId": "7b7c184b-b0f6-4906-9d41-043afd6b0955"
      },
      "outputs": [
        {
          "data": {
            "text/plain": [
              "[1, 2, 3, 4, 5, 11]"
            ]
          },
          "execution_count": 36,
          "metadata": {},
          "output_type": "execute_result"
        }
      ],
      "source": [
        "lista = [1,2,3,4,5,1,1,11,1]\n",
        "list(set(lista))"
      ]
    },
    {
      "cell_type": "markdown",
      "metadata": {
        "id": "ooPY1ZuLzL4p"
      },
      "source": [
        "Los conjuntos no tienen orden!"
      ]
    },
    {
      "cell_type": "code",
      "execution_count": null,
      "metadata": {
        "tags": [
          "raises-exception"
        ],
        "id": "peQgOvlrzL4q",
        "outputId": "ec072fa9-b07f-4068-e21e-3a45ec6a9544"
      },
      "outputs": [
        {
          "ename": "TypeError",
          "evalue": "'set' object is not subscriptable",
          "output_type": "error",
          "traceback": [
            "\u001b[1;31m---------------------------------------------------------------------------\u001b[0m",
            "\u001b[1;31mTypeError\u001b[0m                                 Traceback (most recent call last)",
            "Cell \u001b[1;32mIn[37], line 1\u001b[0m\n\u001b[1;32m----> 1\u001b[0m my_set[\u001b[39m0\u001b[39;49m]\n",
            "\u001b[1;31mTypeError\u001b[0m: 'set' object is not subscriptable"
          ]
        }
      ],
      "source": [
        "my_set[0]"
      ]
    },
    {
      "cell_type": "markdown",
      "metadata": {
        "id": "XTeXa-JNzL4q"
      },
      "source": [
        "Finalmente, los diccionarios son conjuntos en los cuales para acceder a sus valores se necesita de una llave."
      ]
    },
    {
      "cell_type": "code",
      "execution_count": null,
      "metadata": {
        "id": "FZjMJ2W3zL4q",
        "outputId": "1da6db7e-9829-4b55-ca57-a877e7a470cf"
      },
      "outputs": [
        {
          "name": "stdout",
          "output_type": "stream",
          "text": [
            "[True, False, 'Hola', 2]\n"
          ]
        }
      ],
      "source": [
        "my_dict = {\n",
        "    'key_1': ('Nombre', 'Apellido', 22, 1.80),\n",
        "    'key_2': [True, False, 'Hola', 2]\n",
        "}\n",
        "print(my_dict['key_2'])"
      ]
    },
    {
      "cell_type": "code",
      "execution_count": null,
      "metadata": {
        "id": "DYlGh0GdzL4r",
        "outputId": "d0900946-73c7-4c0f-c4d6-1bd873e92fd5"
      },
      "outputs": [
        {
          "data": {
            "text/plain": [
              "dict_values([('Nombre', 'Apellido', 22, 1.8), [True, False, 'Hola', 2]])"
            ]
          },
          "execution_count": 43,
          "metadata": {},
          "output_type": "execute_result"
        }
      ],
      "source": [
        "my_dict.values()"
      ]
    },
    {
      "cell_type": "code",
      "execution_count": null,
      "metadata": {
        "id": "3fmjo4VGzL4r",
        "outputId": "559978e0-ebfe-4db2-e39e-cd5eb3eb8c7a"
      },
      "outputs": [
        {
          "data": {
            "text/plain": [
              "dict_keys(['key_1', 'key_2'])"
            ]
          },
          "execution_count": 44,
          "metadata": {},
          "output_type": "execute_result"
        }
      ],
      "source": [
        "my_dict.keys()"
      ]
    },
    {
      "cell_type": "code",
      "execution_count": null,
      "metadata": {
        "id": "L2q1ZE0JzL4s",
        "outputId": "96f22d58-dc64-4fca-cd89-7a8f0f2e6b49"
      },
      "outputs": [
        {
          "name": "stdout",
          "output_type": "stream",
          "text": [
            "key_1\t('Nombre', 'Apellido', 22, 1.8)\n",
            "key_2\t[True, False, 'Hola', 2]\n"
          ]
        }
      ],
      "source": [
        "for i,j in my_dict.items():\n",
        "    print(f\"{i}\\t{j}\")"
      ]
    },
    {
      "cell_type": "markdown",
      "metadata": {
        "id": "JF7-fBs6zL4s"
      },
      "source": [
        "Otra cosa importante es que tampoco tienen orden! Ni el diccionario, ni sus llaves ni sus valores"
      ]
    },
    {
      "cell_type": "code",
      "execution_count": null,
      "metadata": {
        "tags": [
          "raises-exception"
        ],
        "id": "KJEZq5e_zL4s",
        "outputId": "ebf80fc4-c1fa-4587-fe97-a5607d058fec"
      },
      "outputs": [
        {
          "ename": "KeyError",
          "evalue": "0",
          "output_type": "error",
          "traceback": [
            "\u001b[1;31m---------------------------------------------------------------------------\u001b[0m",
            "\u001b[1;31mKeyError\u001b[0m                                  Traceback (most recent call last)",
            "Cell \u001b[1;32mIn[47], line 1\u001b[0m\n\u001b[1;32m----> 1\u001b[0m my_dict[\u001b[39m0\u001b[39;49m]\n",
            "\u001b[1;31mKeyError\u001b[0m: 0"
          ]
        }
      ],
      "source": [
        "my_dict[0]"
      ]
    },
    {
      "cell_type": "code",
      "execution_count": null,
      "metadata": {
        "tags": [
          "raises-exception"
        ],
        "id": "pmGZjv1RzL4t",
        "outputId": "a7b48518-20d1-4b05-c0ae-5ac9072d06ff"
      },
      "outputs": [
        {
          "ename": "TypeError",
          "evalue": "'dict_keys' object is not subscriptable",
          "output_type": "error",
          "traceback": [
            "\u001b[1;31m---------------------------------------------------------------------------\u001b[0m",
            "\u001b[1;31mTypeError\u001b[0m                                 Traceback (most recent call last)",
            "Cell \u001b[1;32mIn[49], line 1\u001b[0m\n\u001b[1;32m----> 1\u001b[0m my_dict\u001b[39m.\u001b[39;49mkeys()[\u001b[39m0\u001b[39;49m]\n",
            "\u001b[1;31mTypeError\u001b[0m: 'dict_keys' object is not subscriptable"
          ]
        }
      ],
      "source": [
        "my_dict.keys()[0]"
      ]
    },
    {
      "cell_type": "markdown",
      "metadata": {
        "id": "kF10zOLMzL4t"
      },
      "source": [
        "### Control Flow"
      ]
    },
    {
      "cell_type": "markdown",
      "metadata": {
        "id": "zohZeAgizL4t"
      },
      "source": [
        "Es común que en tus desarrollos quieras controlar ciertas acciones, Python no se queda atrás e implementa los condicionales `if`, `elif` y `else`."
      ]
    },
    {
      "cell_type": "code",
      "execution_count": null,
      "metadata": {
        "id": "bbNhZOcSzL4t",
        "outputId": "d644133b-8f0e-42bd-9daf-76d4122037f9"
      },
      "outputs": [
        {
          "name": "stdout",
          "output_type": "stream",
          "text": [
            "11 es mayor igual que 10\n"
          ]
        }
      ],
      "source": [
        "x = 11  # Cambia el valor de x cuando quieras\n",
        "cota_inferior = 5\n",
        "cota_superior = 10\n",
        "if x < cota_inferior:\n",
        "    print(f'{x} es menor que {cota_inferior}')\n",
        "elif x < cota_superior:\n",
        "    print(f'{x} es mayor igual que {cota_inferior} y menor que {cota_superior}')\n",
        "else:\n",
        "    print(f'{x} es mayor igual que {cota_superior}')"
      ]
    },
    {
      "cell_type": "markdown",
      "metadata": {
        "id": "dygkoI78zL4u"
      },
      "source": [
        "Por otros lados los ciclos son útiles cuando quieres ejecutar una acción varias veces hasta que se cumpla una condición."
      ]
    },
    {
      "cell_type": "code",
      "execution_count": null,
      "metadata": {
        "id": "XQFrm2AOzL4u",
        "outputId": "c9a6ca89-e523-4154-8a15-773745d12511"
      },
      "outputs": [
        {
          "name": "stdout",
          "output_type": "stream",
          "text": [
            "El cuadrado de 0 es 0\n",
            "El cuadrado de 1 es 1\n",
            "El cuadrado de 2 es 4\n",
            "El cuadrado de 3 es 9\n",
            "El cuadrado de 4 es 16\n",
            "El cuadrado de 5 es 25\n",
            "El cuadrado de 6 es 36\n",
            "El cuadrado de 7 es 49\n",
            "El cuadrado de 8 es 64\n",
            "El cuadrado de 9 es 81\n"
          ]
        }
      ],
      "source": [
        "# Ciclo While\n",
        "i = 0\n",
        "while i < 10:\n",
        "    print(f\"El cuadrado de {i} es {i ** 2}\")\n",
        "    i += 1"
      ]
    },
    {
      "cell_type": "markdown",
      "metadata": {
        "id": "Y9XYaiA7zL4u"
      },
      "source": [
        "Otra forma de usar un ciclo While es utilizando un `break`"
      ]
    },
    {
      "cell_type": "code",
      "execution_count": null,
      "metadata": {
        "id": "UtBuIECAzL4v",
        "outputId": "cacbc194-2af1-4fb2-9b79-5da89881e8f9"
      },
      "outputs": [
        {
          "name": "stdout",
          "output_type": "stream",
          "text": [
            "40\n",
            "41\n",
            "42\n",
            "43\n",
            "44\n",
            "45\n",
            "46\n",
            "47\n",
            "48\n",
            "49\n",
            "50\n",
            "51\n"
          ]
        }
      ],
      "source": [
        "k = 40\n",
        "while True:\n",
        "    if k % 13 == 0:\n",
        "        break\n",
        "    print(k)\n",
        "    k += 1"
      ]
    },
    {
      "cell_type": "code",
      "execution_count": null,
      "metadata": {
        "id": "_yoByZL1zL4v",
        "outputId": "457b5ad0-8f6a-4f6f-fd5f-05ccd6f38901"
      },
      "outputs": [
        {
          "name": "stdout",
          "output_type": "stream",
          "text": [
            "40\n",
            "41\n",
            "42\n",
            "43\n",
            "44\n",
            "45\n",
            "46\n",
            "47\n",
            "48\n",
            "49\n",
            "50\n",
            "51\n"
          ]
        }
      ],
      "source": [
        "k = 40\n",
        "while True:\n",
        "    if k % 13 == 0:\n",
        "        break\n",
        "    print(k)\n",
        "\n",
        "    if k % 2 == 0:\n",
        "        pass\n",
        "\n",
        "    k += 1"
      ]
    },
    {
      "cell_type": "code",
      "execution_count": null,
      "metadata": {
        "id": "bQJ8FHkszL4v",
        "outputId": "8488e7c2-0416-41cd-da84-bf06bb22b8ba"
      },
      "outputs": [
        {
          "name": "stdout",
          "output_type": "stream",
          "text": [
            "1 es menor que 5\n",
            "3 es menor que 5\n",
            "5 es mayor igual que 5\n",
            "7 es mayor igual que 5\n",
            "9 es mayor igual que 5\n"
          ]
        }
      ],
      "source": [
        "# Ciclo For\n",
        "for i in range(1, 10, 2):\n",
        "    if i < 5:\n",
        "        print(f'{i} es menor que 5')\n",
        "    else:\n",
        "        print(f'{i} es mayor igual que 5')"
      ]
    },
    {
      "cell_type": "code",
      "execution_count": null,
      "metadata": {
        "id": "ykSRnEUQzL4z",
        "outputId": "98da69df-0ffe-4842-f6f6-5d066ba169a8"
      },
      "outputs": [
        {
          "name": "stdout",
          "output_type": "stream",
          "text": [
            "1 es menor que 5\n",
            "2 es menor que 5\n",
            "3 es menor que 5\n",
            "4 es menor que 5\n",
            "5 es mayor igual que 5\n",
            "6 es mayor igual que 5\n",
            "7 es mayor igual que 5\n",
            "8 es mayor igual que 5\n",
            "9 es mayor igual que 5\n"
          ]
        }
      ],
      "source": [
        "for i in range(1, 10):\n",
        "    print(f'{i} es menor que 5') if i<5 else print(f'{i} es mayor igual que 5')"
      ]
    },
    {
      "cell_type": "markdown",
      "metadata": {
        "id": "h48WZMiezL40"
      },
      "source": [
        "El siguiente código es útil cuando quieres iterar por elementos y a la misma vez en su posición en el iterable."
      ]
    },
    {
      "cell_type": "code",
      "execution_count": null,
      "metadata": {
        "id": "1Co_9LMxzL40",
        "outputId": "1ec93612-44d3-4b89-a71c-1e3ef468b6b2"
      },
      "outputs": [
        {
          "name": "stdout",
          "output_type": "stream",
          "text": [
            "Así se deconstruye el nombre de una persona:\n",
            "  1. Cristian\n",
            "  2. Cris\n",
            "  3. Cros\n",
            "  4. Cristobal\n",
            "  5. Crisis\n",
            "  6. Cristhofer\n",
            "  7. X+\n"
          ]
        }
      ],
      "source": [
        "names = ['Cristian', 'Cris', 'Cros', 'Cristobal', 'Crisis', 'Cristhofer', 'X+']\n",
        "\n",
        "print('Así se deconstruye el nombre de una persona:')\n",
        "\n",
        "for i, name in enumerate(names, start=1):\n",
        "    print(f\"  {i}. {name}\")"
      ]
    },
    {
      "cell_type": "markdown",
      "metadata": {
        "id": "r1rtKjFgzL40"
      },
      "source": [
        "Si quieres iterar dos _iterables_ a la vez, prueba con el siguiente código:"
      ]
    },
    {
      "cell_type": "code",
      "execution_count": null,
      "metadata": {
        "id": "cKoeHMjVzL41",
        "outputId": "5dc2a3dc-e25e-4beb-851a-2a9cc251bded"
      },
      "outputs": [
        {
          "name": "stdout",
          "output_type": "stream",
          "text": [
            "Cristian Bravo\n",
            "Cris Carrasco\n",
            "Cros Fuentes\n",
            "Cristobal Cárdenas\n"
          ]
        }
      ],
      "source": [
        "apellidos = ['Bravo', 'Carrasco', 'Fuentes', 'Cárdenas']\n",
        "\n",
        "for x,y in zip(names,apellidos):\n",
        "    print(f\"{x} {y}\")"
      ]
    },
    {
      "cell_type": "markdown",
      "metadata": {
        "id": "48pCxvegzL41"
      },
      "source": [
        "Nota que es importante el largo de los iterables!"
      ]
    },
    {
      "cell_type": "markdown",
      "metadata": {
        "id": "YV3GFQ7WzL41"
      },
      "source": [
        "Los objetos range no son listas. Cuidado!"
      ]
    },
    {
      "cell_type": "code",
      "execution_count": null,
      "metadata": {
        "id": "iLhrz2fIzL41",
        "outputId": "abd4f3be-71bc-4e7f-93ba-21430377b61a"
      },
      "outputs": [
        {
          "name": "stdout",
          "output_type": "stream",
          "text": [
            "range(1, 10, 3)\n"
          ]
        }
      ],
      "source": [
        "my_range = range(1, 10, 3)\n",
        "print(my_range)"
      ]
    },
    {
      "cell_type": "code",
      "execution_count": null,
      "metadata": {
        "id": "h1UTPidYzL42",
        "outputId": "a474c7c0-98b3-43c2-b411-26138888e6bb"
      },
      "outputs": [
        {
          "data": {
            "text/plain": [
              "False"
            ]
          },
          "execution_count": 62,
          "metadata": {},
          "output_type": "execute_result"
        }
      ],
      "source": [
        "isinstance(my_range, list)  # Se puede validar el tipo de una variable de esta forma"
      ]
    },
    {
      "cell_type": "code",
      "execution_count": null,
      "metadata": {
        "id": "j19ISMbCzL42",
        "outputId": "a081388b-f94e-4b47-bf64-7a354eb7c381"
      },
      "outputs": [
        {
          "data": {
            "text/plain": [
              "range"
            ]
          },
          "execution_count": 63,
          "metadata": {},
          "output_type": "execute_result"
        }
      ],
      "source": [
        "type(my_range)"
      ]
    },
    {
      "cell_type": "code",
      "execution_count": null,
      "metadata": {
        "id": "j9kR9xE9zL42",
        "outputId": "398ca468-2a3c-45d0-b9a1-00531dba8152"
      },
      "outputs": [
        {
          "data": {
            "text/plain": [
              "1"
            ]
          },
          "execution_count": 64,
          "metadata": {},
          "output_type": "execute_result"
        }
      ],
      "source": [
        "my_range.start"
      ]
    },
    {
      "cell_type": "code",
      "execution_count": null,
      "metadata": {
        "id": "R0UirjVIzL42",
        "outputId": "ed53ad97-5add-48c4-c51c-0fa9d1228acb"
      },
      "outputs": [
        {
          "data": {
            "text/plain": [
              "10"
            ]
          },
          "execution_count": 65,
          "metadata": {},
          "output_type": "execute_result"
        }
      ],
      "source": [
        "my_range.stop"
      ]
    },
    {
      "cell_type": "code",
      "execution_count": null,
      "metadata": {
        "id": "hqPzVhMwzL42",
        "outputId": "20214155-b159-42d1-f99d-14763deeff14"
      },
      "outputs": [
        {
          "data": {
            "text/plain": [
              "3"
            ]
          },
          "execution_count": 66,
          "metadata": {},
          "output_type": "execute_result"
        }
      ],
      "source": [
        "my_range.step"
      ]
    },
    {
      "cell_type": "code",
      "execution_count": null,
      "metadata": {
        "id": "cgYdeuyWzL43",
        "outputId": "568b854d-b8b2-4951-e255-4b173cc6b40c"
      },
      "outputs": [
        {
          "data": {
            "text/plain": [
              "[1, 4, 7]"
            ]
          },
          "execution_count": 67,
          "metadata": {},
          "output_type": "execute_result"
        }
      ],
      "source": [
        "list(my_range)"
      ]
    },
    {
      "cell_type": "markdown",
      "metadata": {
        "id": "ESdw7ApYzL43"
      },
      "source": [
        "### Funciones"
      ]
    },
    {
      "cell_type": "markdown",
      "metadata": {
        "id": "4ZkFRvMwzL43"
      },
      "source": [
        "Para definir tu propia función la sintaxis es muy sencilla, por ejemplo, definamos la función que retorna la parte entera de la diferencia absoluta de dos números."
      ]
    },
    {
      "cell_type": "code",
      "execution_count": null,
      "metadata": {
        "id": "YzSV985mzL43",
        "outputId": "108e573f-9577-495a-8f24-144c111053f0"
      },
      "outputs": [
        {
          "data": {
            "text/plain": [
              "9"
            ]
          },
          "execution_count": 70,
          "metadata": {},
          "output_type": "execute_result"
        }
      ],
      "source": [
        "def abs_diff_floor(x: float | int=20, y: float | int=10.6) -> int:\n",
        "    \"\"\" Retorna la diferencia entera entre dos valores.\"\"\"\n",
        "    diff = abs(x - y)\n",
        "    value = int(diff)\n",
        "    return value\n",
        "abs_diff_floor()"
      ]
    },
    {
      "cell_type": "code",
      "execution_count": null,
      "metadata": {
        "id": "EDyZF2Y2zL43",
        "outputId": "c8b04e27-bb37-4465-d9f3-0b7551fa6051"
      },
      "outputs": [
        {
          "data": {
            "text/plain": [
              "12"
            ]
          },
          "execution_count": 71,
          "metadata": {},
          "output_type": "execute_result"
        }
      ],
      "source": [
        "abs_diff_floor(20.3, 32.6)"
      ]
    },
    {
      "cell_type": "markdown",
      "metadata": {
        "id": "F--LjK0gzL44"
      },
      "source": [
        "O inclusive _encapsular_ cosas que ya hemos hecho con anterioridad, como por ejemplo:"
      ]
    },
    {
      "cell_type": "code",
      "execution_count": null,
      "metadata": {
        "id": "lXFC2FjqzL44"
      },
      "outputs": [],
      "source": [
        "def my_function(x, cota_inferior=5, cota_superior=10) -> str:\n",
        "    if x < cota_inferior:\n",
        "        return f'{x} es menor que {cota_inferior}'\n",
        "    elif x < cota_superior:\n",
        "        return f'{x} es mayor igual que {cota_inferior} y menor que {cota_superior}'\n",
        "    else:\n",
        "        return f'{x} es mayor igual que {cota_superior}'"
      ]
    },
    {
      "cell_type": "code",
      "execution_count": null,
      "metadata": {
        "id": "L2yzWTIIzL44",
        "outputId": "260b49f2-61d6-4f32-8a29-6546e9e8ecd7"
      },
      "outputs": [
        {
          "data": {
            "text/plain": [
              "'5 es mayor igual que 5 y menor que 10'"
            ]
          },
          "execution_count": 74,
          "metadata": {},
          "output_type": "execute_result"
        }
      ],
      "source": [
        "my_function(5)"
      ]
    },
    {
      "cell_type": "code",
      "execution_count": null,
      "metadata": {
        "id": "a7ps0Zn7zL44",
        "outputId": "72628589-9f30-4b15-cbca-1e78c9dbfb03"
      },
      "outputs": [
        {
          "data": {
            "text/plain": [
              "'3 es menor que 4'"
            ]
          },
          "execution_count": 75,
          "metadata": {},
          "output_type": "execute_result"
        }
      ],
      "source": [
        "my_function(3, 4, 10)"
      ]
    },
    {
      "cell_type": "markdown",
      "metadata": {
        "id": "kWk2s-w_zL44"
      },
      "source": [
        "Si el tipo de función es 'sencilla' puedes hacer uso de las funciones _lambda_ y disminuir la verbosidad del código."
      ]
    },
    {
      "cell_type": "code",
      "execution_count": null,
      "metadata": {
        "id": "QYP53IaTzL45",
        "outputId": "66d94785-0601-4385-8020-be5ae7948878"
      },
      "outputs": [
        {
          "data": {
            "text/plain": [
              "9"
            ]
          },
          "execution_count": 77,
          "metadata": {},
          "output_type": "execute_result"
        }
      ],
      "source": [
        "abs_diff_floor = lambda x=20, y=10.6 : int(abs(x - y))\n",
        "abs_diff_floor()"
      ]
    },
    {
      "cell_type": "code",
      "execution_count": null,
      "metadata": {
        "id": "29_qVHf1zL45"
      },
      "outputs": [],
      "source": [
        "f = lambda x,y : x+y**2"
      ]
    },
    {
      "cell_type": "code",
      "execution_count": null,
      "metadata": {
        "id": "M12l_oOFzL45",
        "outputId": "1cbe4a13-0016-4755-c2ce-4e9a721cfb2e"
      },
      "outputs": [
        {
          "data": {
            "text/plain": [
              "11"
            ]
          },
          "execution_count": 79,
          "metadata": {},
          "output_type": "execute_result"
        }
      ],
      "source": [
        "f(2,3)"
      ]
    },
    {
      "cell_type": "markdown",
      "metadata": {
        "id": "fH7T-P0_zL45"
      },
      "source": [
        "Veamos un ejemplo real de uso,\n",
        "\n",
        "Considere el modelo de covarianza isotrópica: Cauchy Generalizado con parámetros $\\alpha, \\tau>0$, $0<\\beta\\leq 2$.\n",
        "$$C(h) = \\left(\\alpha^2 + \\|h\\|^\\beta \\right)^{-\\tau}$$"
      ]
    },
    {
      "cell_type": "code",
      "execution_count": null,
      "metadata": {
        "id": "t2Fjc6zpzL45",
        "outputId": "b7c45a63-40fa-47f7-bfa6-04cd72b6107a"
      },
      "outputs": [
        {
          "data": {
            "text/plain": [
              "1129.4823227814086"
            ]
          },
          "execution_count": 80,
          "metadata": {},
          "output_type": "execute_result"
        }
      ],
      "source": [
        "C = lambda h, alpha, beta, tau : (alpha**2 + abs(h)**beta)**(-tau)\n",
        "\n",
        "C(2,3,0.5,-3)"
      ]
    },
    {
      "cell_type": "markdown",
      "metadata": {
        "id": "KYIRYQsDzL46"
      },
      "source": [
        "## Librerías"
      ]
    },
    {
      "cell_type": "markdown",
      "metadata": {
        "id": "fjzkFcnLzL46"
      },
      "source": [
        "Existen librerías de todo tipo para toda clase de tareas en Python, sin embargo, sería poco eficiente que todas estén disponibles por defecto al iniciar un kernel, por lo que el usuario debe manualmente importarlas o incluso instalarlas.\n",
        "Durante el semestre veremos algunas interesantes asociadas al manejo de datos, como\n",
        "* NumPy\n",
        "* Matplotlib\n",
        "* Pandas\n",
        "* etc...\n",
        "\n",
        "Por ejemplo, ¿Cómo obtener la raíz cuadrada de 49? Debería ser fácil calcularlo en python..."
      ]
    },
    {
      "cell_type": "code",
      "execution_count": null,
      "metadata": {
        "tags": [
          "raises-exception"
        ],
        "id": "q9uimKcpzL46",
        "outputId": "8839dbdd-2b79-4f6e-d591-a03db310477c"
      },
      "outputs": [
        {
          "ename": "NameError",
          "evalue": "name 'sqrt' is not defined",
          "output_type": "error",
          "traceback": [
            "\u001b[1;31m---------------------------------------------------------------------------\u001b[0m",
            "\u001b[1;31mNameError\u001b[0m                                 Traceback (most recent call last)",
            "Cell \u001b[1;32mIn[81], line 1\u001b[0m\n\u001b[1;32m----> 1\u001b[0m sqrt(\u001b[39m49\u001b[39m)\n",
            "\u001b[1;31mNameError\u001b[0m: name 'sqrt' is not defined"
          ]
        }
      ],
      "source": [
        "sqrt(49)"
      ]
    },
    {
      "cell_type": "markdown",
      "metadata": {
        "id": "qaD4bMxvzL46"
      },
      "source": [
        "Primero debes importar el módulo de operaciones matemáticas que viene instalado por defecto en Python, con un nombre muy creativo."
      ]
    },
    {
      "cell_type": "code",
      "execution_count": null,
      "metadata": {
        "id": "kmZDKhMWzL46"
      },
      "outputs": [],
      "source": [
        "import math #xd"
      ]
    },
    {
      "cell_type": "code",
      "execution_count": null,
      "metadata": {
        "id": "WEsOH8AezL47",
        "outputId": "5d00aee8-a53e-403b-b6e2-4ffc17a0a669"
      },
      "outputs": [
        {
          "data": {
            "text/plain": [
              "['__doc__',\n",
              " '__loader__',\n",
              " '__name__',\n",
              " '__package__',\n",
              " '__spec__',\n",
              " 'acos',\n",
              " 'acosh',\n",
              " 'asin',\n",
              " 'asinh',\n",
              " 'atan',\n",
              " 'atan2',\n",
              " 'atanh',\n",
              " 'cbrt',\n",
              " 'ceil',\n",
              " 'comb',\n",
              " 'copysign',\n",
              " 'cos',\n",
              " 'cosh',\n",
              " 'degrees',\n",
              " 'dist',\n",
              " 'e',\n",
              " 'erf',\n",
              " 'erfc',\n",
              " 'exp',\n",
              " 'exp2',\n",
              " 'expm1',\n",
              " 'fabs',\n",
              " 'factorial',\n",
              " 'floor',\n",
              " 'fmod',\n",
              " 'frexp',\n",
              " 'fsum',\n",
              " 'gamma',\n",
              " 'gcd',\n",
              " 'hypot',\n",
              " 'inf',\n",
              " 'isclose',\n",
              " 'isfinite',\n",
              " 'isinf',\n",
              " 'isnan',\n",
              " 'isqrt',\n",
              " 'lcm',\n",
              " 'ldexp',\n",
              " 'lgamma',\n",
              " 'log',\n",
              " 'log10',\n",
              " 'log1p',\n",
              " 'log2',\n",
              " 'modf',\n",
              " 'nan',\n",
              " 'nextafter',\n",
              " 'perm',\n",
              " 'pi',\n",
              " 'pow',\n",
              " 'prod',\n",
              " 'radians',\n",
              " 'remainder',\n",
              " 'sin',\n",
              " 'sinh',\n",
              " 'sqrt',\n",
              " 'tan',\n",
              " 'tanh',\n",
              " 'tau',\n",
              " 'trunc',\n",
              " 'ulp']"
            ]
          },
          "execution_count": 83,
          "metadata": {},
          "output_type": "execute_result"
        }
      ],
      "source": [
        "dir(math)"
      ]
    },
    {
      "cell_type": "markdown",
      "metadata": {
        "id": "xgo5yGfGzL47"
      },
      "source": [
        "¿Como acceder a las operaciones? Sencillo, debes acceder primero al módulo o librería y luego llamar a la función. Por ejemplo:"
      ]
    },
    {
      "cell_type": "code",
      "execution_count": null,
      "metadata": {
        "id": "w4GsQ860zL47",
        "outputId": "ff1b49a1-a164-4d72-b3a5-038e584a42e1"
      },
      "outputs": [
        {
          "data": {
            "text/plain": [
              "7.0"
            ]
          },
          "execution_count": 87,
          "metadata": {},
          "output_type": "execute_result"
        }
      ],
      "source": [
        "math.sqrt(49)"
      ]
    },
    {
      "cell_type": "markdown",
      "metadata": {
        "id": "qspfVoXMzL48"
      },
      "source": [
        "También hay otras funciones, por ejemplo `floor`"
      ]
    },
    {
      "cell_type": "code",
      "execution_count": null,
      "metadata": {
        "id": "--n7gEddzL48",
        "outputId": "6b57c3fc-6f49-4baa-b482-dc9dae2c0df2"
      },
      "outputs": [
        {
          "data": {
            "text/plain": [
              "2"
            ]
          },
          "execution_count": 88,
          "metadata": {},
          "output_type": "execute_result"
        }
      ],
      "source": [
        "math.floor(2.6)"
      ]
    },
    {
      "cell_type": "code",
      "execution_count": null,
      "metadata": {
        "id": "OuJa76iSzL48",
        "outputId": "a837f3ce-5c03-4950-a5dd-0cb4155a4e50"
      },
      "outputs": [
        {
          "data": {
            "text/plain": [
              "4"
            ]
          },
          "execution_count": 89,
          "metadata": {},
          "output_type": "execute_result"
        }
      ],
      "source": [
        "math.comb(4,3)"
      ]
    },
    {
      "cell_type": "code",
      "execution_count": null,
      "metadata": {
        "id": "Nskw7UwKzL48",
        "outputId": "81cee566-6f5d-4d98-bab9-d9f882c97da6"
      },
      "outputs": [
        {
          "data": {
            "text/plain": [
              "120"
            ]
          },
          "execution_count": 90,
          "metadata": {},
          "output_type": "execute_result"
        }
      ],
      "source": [
        "math.factorial(5)"
      ]
    },
    {
      "cell_type": "code",
      "execution_count": null,
      "metadata": {
        "id": "2oG_L23pzL49",
        "outputId": "4eadef82-37b3-4ea7-9ab2-5f3338cd81b3"
      },
      "outputs": [
        {
          "data": {
            "text/plain": [
              "7.38905609893065"
            ]
          },
          "execution_count": 91,
          "metadata": {},
          "output_type": "execute_result"
        }
      ],
      "source": [
        "math.exp(2)"
      ]
    },
    {
      "cell_type": "markdown",
      "metadata": {
        "id": "47EgHiPBzL49"
      },
      "source": [
        "Si te parece molesto tener que poner previamente _math_ puedes abreviar una librería de la siguiente forma:"
      ]
    },
    {
      "cell_type": "code",
      "execution_count": null,
      "metadata": {
        "id": "KnkpjuuBzL49"
      },
      "outputs": [],
      "source": [
        "#import numpy as np\n",
        "#import pandas as pd\n",
        "#import matplotlib.pyplot as plt\n",
        "#import seaborn as sns\n",
        "import math as m"
      ]
    },
    {
      "cell_type": "code",
      "execution_count": null,
      "metadata": {
        "id": "5W4R1NYMzL49",
        "outputId": "c7457003-1f03-46de-c49b-7a6fdb2e0b2a"
      },
      "outputs": [
        {
          "data": {
            "text/plain": [
              "3.141592653589793"
            ]
          },
          "execution_count": 93,
          "metadata": {},
          "output_type": "execute_result"
        }
      ],
      "source": [
        "m.pi"
      ]
    },
    {
      "cell_type": "markdown",
      "metadata": {
        "id": "_0Ar6YPnzL4-"
      },
      "source": [
        "O si solo quieres usar unas pocas funciones puede importarlas directamente usando la siguiente sintaxis, incluso puedes cambiarle el nombre a tu gusto."
      ]
    },
    {
      "cell_type": "code",
      "execution_count": null,
      "metadata": {
        "id": "NiU3_FM_zL4-"
      },
      "outputs": [],
      "source": [
        "from math import sin, cos as coseno, pi"
      ]
    },
    {
      "cell_type": "code",
      "execution_count": null,
      "metadata": {
        "id": "p_7r_JIyzL4_",
        "outputId": "11cb69b3-c747-4f22-ea8b-68054c041f4d"
      },
      "outputs": [
        {
          "data": {
            "text/plain": [
              "2.0"
            ]
          },
          "execution_count": 95,
          "metadata": {},
          "output_type": "execute_result"
        }
      ],
      "source": [
        "coseno(2*pi) + sin(pi/2)"
      ]
    },
    {
      "cell_type": "markdown",
      "metadata": {
        "id": "PMh66IxfzL4_"
      },
      "source": [
        "Tambien tienes como opción importar todas las funciones de la librería para acceder de forma directa a ellas de la siguiente forma:"
      ]
    },
    {
      "cell_type": "code",
      "execution_count": null,
      "metadata": {
        "id": "sEys_d8yzL4_"
      },
      "outputs": [],
      "source": [
        "#from math import *"
      ]
    },
    {
      "cell_type": "markdown",
      "metadata": {
        "id": "Fuy4EA73zL4_"
      },
      "source": [
        "No lo recomiendo, a no ser que te sepas todas las funciones de la librería, pues el nombre de las funciones quedarán como palabras reservadas en la memoria lo cual te puede traer problemas!"
      ]
    },
    {
      "cell_type": "markdown",
      "metadata": {
        "id": "9ANY_Q3szL5A"
      },
      "source": [
        "Luego, de este breve repaso por los contenidos vistos en IWI131, veamos cosas más actuales."
      ]
    },
    {
      "cell_type": "markdown",
      "metadata": {
        "id": "NIp1nl8hzL5A"
      },
      "source": [
        "### List Comprehension"
      ]
    },
    {
      "cell_type": "markdown",
      "metadata": {
        "id": "1ZQEPkl-zL5A"
      },
      "source": [
        "Sigues haciendo los for de esta forma?"
      ]
    },
    {
      "cell_type": "code",
      "execution_count": null,
      "metadata": {
        "id": "XfOTf9rZzL5A",
        "outputId": "fb2dbf58-205d-4103-aed1-48421cad1572"
      },
      "outputs": [
        {
          "name": "stdout",
          "output_type": "stream",
          "text": [
            "['apple', 'banana', 'mango']\n"
          ]
        }
      ],
      "source": [
        "fruits = [\"apple\", \"banana\", \"cherry\", \"kiwi\", \"mango\"]\n",
        "newlist = []\n",
        "\n",
        "for x in fruits:\n",
        "    if \"a\" in x:\n",
        "        newlist.append(x)\n",
        "\n",
        "print(newlist)"
      ]
    },
    {
      "cell_type": "code",
      "execution_count": null,
      "metadata": {
        "id": "WBLGFLVnzL5A",
        "outputId": "0d9f6902-73cb-4dac-b995-39a7029b8de2"
      },
      "outputs": [
        {
          "data": {
            "text/plain": [
              "['apple', 'banana', 'mango']"
            ]
          },
          "execution_count": 98,
          "metadata": {},
          "output_type": "execute_result"
        }
      ],
      "source": [
        "[x for x in fruits if 'a' in x]"
      ]
    },
    {
      "cell_type": "markdown",
      "metadata": {
        "id": "2-X5NgI0zL5A"
      },
      "source": [
        "Las List Comprehensions (Comprensiones de Lista) son una característica poderosa de Python que te permite crear listas de una manera más concisa y elegante. Proporcionan una forma compacta de generar listas mediante la aplicación de una expresión a cada elemento de una secuencia (como una lista, una tupla o un rango) o mediante la combinación de varias secuencias. Una herramienta muy útil!!\n",
        "\n",
        "El formato es el siguiente:\n",
        "\n",
        "> new_list = [expression for item in sequence if condition]\n",
        "\n",
        "Veamos unos ejemplos:"
      ]
    },
    {
      "cell_type": "code",
      "execution_count": null,
      "metadata": {
        "id": "vv7vadFNzL5B",
        "outputId": "ef631fde-3871-41b8-b084-830067186acc"
      },
      "outputs": [
        {
          "data": {
            "text/plain": [
              "[4, 16, 36, 64]"
            ]
          },
          "execution_count": 97,
          "metadata": {},
          "output_type": "execute_result"
        }
      ],
      "source": [
        "[x**2 for x in range(1,10) if x % 2 == 0]"
      ]
    },
    {
      "cell_type": "markdown",
      "metadata": {
        "id": "pn1uVOoqzL5B"
      },
      "source": [
        "En otro ramo tenía el siguiente problema:\n",
        "\n",
        "Cree una función __load_X que reciba una lista de rutas de la carpeta de archivos (.txt), y retorne un arreglo de numpy con las siguientes dimensiones (n_samples, signal_len, sensor)."
      ]
    },
    {
      "cell_type": "code",
      "execution_count": null,
      "metadata": {
        "id": "68fd7kpUzL5B",
        "outputId": "1747b61d-f326-430a-b463-0dd4371e05dc"
      },
      "outputs": [
        {
          "name": "stdout",
          "output_type": "stream",
          "text": [
            "/content/UCI HAR Dataset/test/Inertial Signals/body_acc_x_test.txt\n",
            "/content/UCI HAR Dataset/test/Inertial Signals/body_acc_y_test.txt\n",
            "/content/UCI HAR Dataset/test/Inertial Signals/body_acc_z_test.txt\n",
            "/content/UCI HAR Dataset/test/Inertial Signals/body_gyro_x_test.txt\n",
            "/content/UCI HAR Dataset/test/Inertial Signals/body_gyro_y_test.txt\n",
            "/content/UCI HAR Dataset/test/Inertial Signals/body_gyro_z_test.txt\n",
            "/content/UCI HAR Dataset/test/Inertial Signals/total_acc_x_test.txt\n",
            "/content/UCI HAR Dataset/test/Inertial Signals/total_acc_y_test.txt\n",
            "/content/UCI HAR Dataset/test/Inertial Signals/total_acc_z_test.txt\n"
          ]
        }
      ],
      "source": [
        "# Escribir rutas de archivos de una carpeta con formato específico.\n",
        "\n",
        "SIGNALS = [\"body_acc_x_\", \"body_acc_y_\", \"body_acc_z_\",\n",
        "           \"body_gyro_x_\", \"body_gyro_y_\", \"body_gyro_z_\",\n",
        "           \"total_acc_x_\", \"total_acc_y_\", \"total_acc_z_\"]\n",
        "\n",
        "test_paths = [f'/content/UCI HAR Dataset/test/Inertial Signals/{signal}test.txt' for signal in SIGNALS]\n",
        "\n",
        "print(*test_paths, sep = '\\n')"
      ]
    },
    {
      "cell_type": "code",
      "execution_count": null,
      "metadata": {
        "id": "fP8YhlI1zL5B"
      },
      "outputs": [],
      "source": [
        "def __load_X(X_signal_paths):\n",
        "  return np.stack([np.loadtxt(path) for path in X_signal_paths], axis = 2)"
      ]
    },
    {
      "cell_type": "markdown",
      "metadata": {
        "id": "rs--6SGazL5B"
      },
      "source": [
        "### _f-strings_"
      ]
    },
    {
      "cell_type": "markdown",
      "metadata": {
        "id": "lg5TDHLzzL5C"
      },
      "source": [
        "Ya vimos que esta herramienta nos sirve para dar formato a strings, veamos que tanto podemos hacer."
      ]
    },
    {
      "cell_type": "markdown",
      "metadata": {
        "id": "oLX1AaCzzL5C"
      },
      "source": [
        "Por ejemplo, puedes escribir cualquier tipo de operación dentro del _f-string_"
      ]
    },
    {
      "cell_type": "code",
      "execution_count": null,
      "metadata": {
        "id": "uFHgrTKvzL5C",
        "outputId": "44ecf3d0-7b1c-4b7a-83b8-67c42aeb46e0"
      },
      "outputs": [
        {
          "data": {
            "text/plain": [
              "'La suma de 3.14153432452342 y 1244235 es 1_244_238.142'"
            ]
          },
          "execution_count": 107,
          "metadata": {},
          "output_type": "execute_result"
        }
      ],
      "source": [
        "a = 3.14153432452342\n",
        "b = 1_244_235\n",
        "result = f\"La suma de {a} y {b} es {a + b:_.3f}\"\n",
        "result"
      ]
    },
    {
      "cell_type": "markdown",
      "metadata": {
        "id": "FFaxxwiazL5C"
      },
      "source": [
        "No solo sirve para imprimir resultados o expresiones, puedes usarlo para todo tipo de cosas, como darle formato a un gráfico usando parámetros."
      ]
    },
    {
      "cell_type": "code",
      "execution_count": null,
      "metadata": {
        "id": "Qcipk-dGzL5C",
        "outputId": "b3710e41-2ec0-454a-de94-c37fba22b053"
      },
      "outputs": [
        {
          "data": {
            "text/plain": [
              "'Parámetros usados: nu=10, alpha=3'"
            ]
          },
          "execution_count": 110,
          "metadata": {},
          "output_type": "execute_result"
        }
      ],
      "source": [
        "nu = 10\n",
        "alpha = 3\n",
        "\n",
        "title = f\"Parámetros usados: {nu=}, {alpha=}\"\n",
        "title"
      ]
    },
    {
      "cell_type": "markdown",
      "metadata": {
        "id": "GGRygZ0NzL5D"
      },
      "source": [
        "Podemos imprimir salidas formateadas, por ejemplo:"
      ]
    },
    {
      "cell_type": "code",
      "execution_count": null,
      "metadata": {
        "id": "vCkj73rRzL5D",
        "outputId": "04d6c013-1abd-46fc-8845-e298fd43ed01"
      },
      "outputs": [
        {
          "name": "stdout",
          "output_type": "stream",
          "text": [
            "**Benjamín|___5___||Bravo-----\n",
            "*Sebastián|___6___||Carrasco--\n",
            "*****Diego|__24___||Fuentes---\n",
            "***Joaquín|___2___||Cárdenas--\n"
          ]
        }
      ],
      "source": [
        "names = ['Benjamín', 'Sebastián', 'Diego', 'Joaquín']\n",
        "ages = [5, 6, 24, 2]\n",
        "apellidos = ['Bravo', 'Carrasco', 'Fuentes', 'Cárdenas']\n",
        "\n",
        "for i in range(len(names)):\n",
        "    print(f'{names[i]:*>10}|{ages[i]:_^7}||{apellidos[i]:-<10}')"
      ]
    },
    {
      "cell_type": "markdown",
      "metadata": {
        "id": "W6CbiBNIzL5D"
      },
      "source": [
        "## Ejercicio"
      ]
    },
    {
      "cell_type": "markdown",
      "metadata": {
        "id": "_T1rERzpzL5D"
      },
      "source": [
        "El enunciado y reglas del siguiente [ejercicio](https://www.freecodecamp.org/espanol/learn/scientific-computing-with-python/scientific-computing-with-python-projects/arithmetic-formatter) lo puedes encontrar en el link adjunto. Las reglas que usaremos serán un poco distintas ;)"
      ]
    },
    {
      "cell_type": "markdown",
      "metadata": {
        "id": "kzZKYj-UzL5E"
      },
      "source": [
        "Los estudiantes de primaria suelen colocar los problemas aritméticos en vertical para facilitar su resolución. Por ejemplo, \"235 + 52\" se convierte a:\n",
        "\n",
        "```text\n",
        "   235\n",
        "+   52\n",
        "------\n",
        "```\n",
        "\n",
        "Crea una función que reciba una lista de cadenas que sean problemas aritméticos y devuelva los problemas ordenados verticalmente y uno al lado del otro. La función debe tomar opcionalmente un segundo argumento. Cuando el segundo argumento se establezca como ``True``, se deberán mostrar las respuestas."
      ]
    },
    {
      "cell_type": "markdown",
      "metadata": {
        "id": "LVdiXuspzL5E"
      },
      "source": [
        "Ejemplo\n",
        "\n",
        "Llamando a la función:\n",
        "\n",
        "> arithmetic_arranger([\"32 + 698\", \"3801 - 2\", \"45 + 43\", \"123 + 49\"])\n",
        "\n",
        "Resultado:\n",
        "``` text\n",
        "    32      3801        45       123\n",
        "+  698    -    2    +   43    +   49\n",
        "------    ------    ------    ------\n",
        "```\n",
        "Llamando a la función:\n",
        "\n",
        "> arithmetic_arranger([\"32 + 8\", \"1 - 3801\", \"9999 + 9999\", \"523 - 49\"], True)\n",
        "\n",
        "Resultado:\n",
        "``` text\n",
        "    32         1      9999       523\n",
        "+    8    - 3801    + 9999    -   49\n",
        "------    ------    ------    ------\n",
        "    40     -3800     19998       474"
      ]
    },
    {
      "cell_type": "markdown",
      "metadata": {
        "id": "8lXklFljzL5E"
      },
      "source": [
        "Tenemos las siguientes reglas para mantener el formato de salida y evitar posibles errores:\n",
        "\n",
        "* Solo se permiten las operaciones de suma (+) y resta (-).\n",
        "* El máximo de digitos de cada valor a operar es 4.\n",
        "* Se debe separar las operaciones por 4 espacios."
      ]
    },
    {
      "cell_type": "markdown",
      "metadata": {
        "id": "2-XIbKl5zL5E"
      },
      "source": [
        "Puedes utilizar todo lo que sabes, pero sería bueno poner a prueba tu manejo de _f-strings_ y compresión de listas."
      ]
    },
    {
      "cell_type": "code",
      "execution_count": null,
      "metadata": {
        "id": "wIw-jOAfzL5E"
      },
      "outputs": [],
      "source": [
        "# COMPLETA EL CÓDIGO\n",
        "\n",
        "def arithmetic_arranger():\n",
        "    \"\"\"\n",
        "    Se puede documentar funciones de esta forma ;)\n",
        "    \"\"\"\n",
        "    return"
      ]
    },
    {
      "cell_type": "code",
      "execution_count": null,
      "metadata": {
        "id": "e-yRU0RszL5E"
      },
      "outputs": [],
      "source": [
        "def arithmetic_arranger(lista, print_result = False):\n",
        "    s1=s2=s4= ''\n",
        "    for a,oper,b in [string.split(' ') for string in lista]:\n",
        "        s1 += f'{a:>6}{4*\" \"}'\n",
        "        s2 += f'{oper}{b:>5}{4*\" \"}'\n",
        "        s4 += f'{int(a)+int(b) if oper == \"+\" else int(a)-int(b) :>6}{4*\" \"}'\n",
        "    return f'{s1}\\n{s2}\\n{(\"-\"*6+4*\" \")*len(lista)}\\n{s4}' if print_result == True else f'{s1}\\n{s2}\\n{(\"-\"*6+4*\" \")*len(lista)}'"
      ]
    },
    {
      "cell_type": "markdown",
      "metadata": {
        "id": "niFvd76ozL5F"
      },
      "source": [
        "Compara los resultados."
      ]
    },
    {
      "cell_type": "code",
      "execution_count": null,
      "metadata": {
        "id": "Q1824IPozL5F",
        "outputId": "99b07173-c113-4ebe-f4f3-c5b33ffddbe8"
      },
      "outputs": [
        {
          "name": "stdout",
          "output_type": "stream",
          "text": [
            "    32      3801        45       123    \n",
            "+  698    -    2    +   43    +   49    \n",
            "------    ------    ------    ------    \n"
          ]
        }
      ],
      "source": [
        "print(arithmetic_arranger([\"32 + 698\", \"3801 - 2\", \"45 + 43\", \"123 + 49\"]))"
      ]
    },
    {
      "cell_type": "code",
      "execution_count": null,
      "metadata": {
        "id": "9uSSnHawzL5F",
        "outputId": "cd3e68e1-2d81-44c8-a57a-e1a203268161"
      },
      "outputs": [
        {
          "name": "stdout",
          "output_type": "stream",
          "text": [
            "    32         1      9999       523    \n",
            "+    8    - 3801    + 9999    -   49    \n",
            "------    ------    ------    ------    \n",
            "    40     -3800     19998       474    \n"
          ]
        }
      ],
      "source": [
        "print(arithmetic_arranger([\"32 + 8\", \"1 - 3801\", \"9999 + 9999\", \"523 - 49\"], True))"
      ]
    }
  ],
  "metadata": {
    "kernelspec": {
      "display_name": "Python 3 (ipykernel)",
      "language": "python",
      "name": "python3"
    },
    "language_info": {
      "codemirror_mode": {
        "name": "ipython",
        "version": 3
      },
      "file_extension": ".py",
      "mimetype": "text/x-python",
      "name": "python",
      "nbconvert_exporter": "python",
      "pygments_lexer": "ipython3",
      "version": "3.11.4"
    },
    "colab": {
      "provenance": [],
      "include_colab_link": true
    }
  },
  "nbformat": 4,
  "nbformat_minor": 0
}