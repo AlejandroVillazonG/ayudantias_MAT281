{
  "cells": [
    {
      "cell_type": "markdown",
      "metadata": {
        "id": "view-in-github",
        "colab_type": "text"
      },
      "source": [
        "<a href=\"https://colab.research.google.com/github/AlejandroVillazonG/ayudantias_MAT281/blob/main/ayudantias_2023/Ayud2_MAT281_numpy.ipynb\" target=\"_parent\"><img src=\"https://colab.research.google.com/assets/colab-badge.svg\" alt=\"Open In Colab\"/></a>"
      ]
    },
    {
      "cell_type": "markdown",
      "metadata": {
        "id": "JwEu4Lkq0Knx"
      },
      "source": [
        "<center><img src=\"https://matematica.usm.cl/wp-content/themes/dmatUSM/assets/img/logoDMAT2.png\" title=\"Title text\" width= 800 /></center>\n",
        "<hr style=\"height:2px;border:none\"/>\n",
        "<h1 align='center'> Ayudantía 2: Introducción a la librería NumPy</h1>\n",
        "\n",
        "<H3 align='center'> MAT281 2023-2 </H3>\n",
        "\n",
        "<H3 align='center'> Ayud. Alejandro Villazón G. </H3>\n",
        "<hr style=\"height:2px;border:none\"/>"
      ]
    },
    {
      "cell_type": "markdown",
      "metadata": {
        "id": "cBszRTkq0Kn7"
      },
      "source": [
        "En esta ayudantía introduciremos algunos conceptos de computación cientifica en Python, principalmente utilizando la biblioteca `NumPy`, base de otras librerías científicas."
      ]
    },
    {
      "cell_type": "markdown",
      "metadata": {
        "id": "XClwJmXz0Kn8"
      },
      "source": [
        "## SciPy.org"
      ]
    },
    {
      "cell_type": "markdown",
      "metadata": {
        "id": "KZr2q54E0Kn9"
      },
      "source": [
        "**SciPy** es un ecosistema de software _open-source_ para matemática, ciencia y ingeniería. Las principales bibliotecas son:\n",
        "\n",
        "* NumPy: Arrays N-dimensionales. Librería base, integración con C/C++ y Fortran.\n",
        "* SciPy library: Computación científica (integración, optimización, estadística, etc.)\n",
        "* Matplotlib: Visualización 2D.\n",
        "* SimPy: Matemática Simbólica.\n",
        "* Pandas: Estructura y análisis de datos."
      ]
    },
    {
      "cell_type": "markdown",
      "metadata": {
        "id": "t8zUHjd_0Kn-"
      },
      "source": [
        "## NumPy"
      ]
    },
    {
      "cell_type": "markdown",
      "metadata": {
        "id": "U3imQ_Xv0Kn-"
      },
      "source": [
        "NumPy es el paquete fundamental para la computación científica en Python. Proporciona un objeto de matriz multidimensional, varios objetos derivados (como matrices y arreglos) y una variedad de rutinas para operaciones rápidas en matrices, incluida la manipulación matemática, lógica, de formas, clasificación, selección, I/O, transformadas discretas de Fourier, álgebra lineal básica, operaciones estadísticas básicas, simulación y mucho más. [Fuente.](https://numpy.org/devdocs/user/whatisnumpy.html)"
      ]
    },
    {
      "cell_type": "markdown",
      "metadata": {
        "id": "rblYAggH0Kn_"
      },
      "source": [
        "Para comenzar, la forma usual de importar `NumPy` es utilizando el alias `np`. Lo verás así en una infinidad de ejemplos, libros, blogs, etc."
      ]
    },
    {
      "cell_type": "code",
      "execution_count": 1,
      "metadata": {
        "id": "Qz8IEZY80KoA"
      },
      "outputs": [],
      "source": [
        "import numpy as np"
      ]
    },
    {
      "cell_type": "markdown",
      "metadata": {
        "id": "_JQPdmkn0KoD"
      },
      "source": [
        "### Lo básico"
      ]
    },
    {
      "cell_type": "markdown",
      "metadata": {
        "id": "OInCrE380KoE"
      },
      "source": [
        "Los objetos principales de Numpy son los comúnmente conocidos como NumPy Arrays (la clase se llama `ndarray`), corresponden a una tabla de elementos, todos del mismo tipo, indexados por una tupla de enteros no-negativos. En NumPy, las dimensiones son llamadas `axes` (ejes) y su singular `axis` (eje), similar a un plano cartesiano generalizado. Esta parte de la ayudantía está basada en el _Quickstart tutorial_ de la página oficial ([link](https://numpy.org/devdocs/user/quickstart.html)).\n",
        "\n",
        "Instanciar un NumPy Array es simple es utilizando el constructor propio de la biblioteca."
      ]
    },
    {
      "cell_type": "code",
      "execution_count": 2,
      "metadata": {
        "id": "wPQnusSI0KoF"
      },
      "outputs": [],
      "source": [
        "a = np.array([[ 0,  1,  2,  3,  4],[ 5,  6,  7,  8,  9],[10, 11, 12, 13, 14]])"
      ]
    },
    {
      "cell_type": "code",
      "execution_count": 3,
      "metadata": {
        "colab": {
          "base_uri": "https://localhost:8080/"
        },
        "id": "AjUWX40Y0KoF",
        "outputId": "60a1c4c8-cd80-42cc-9666-db31c2574d89"
      },
      "outputs": [
        {
          "output_type": "execute_result",
          "data": {
            "text/plain": [
              "numpy.ndarray"
            ]
          },
          "metadata": {},
          "execution_count": 3
        }
      ],
      "source": [
        "type(a)"
      ]
    },
    {
      "cell_type": "markdown",
      "metadata": {
        "id": "fGN8xnok0KoG"
      },
      "source": [
        "Los atributos más importantes de un `ndarray` son:"
      ]
    },
    {
      "cell_type": "code",
      "execution_count": 4,
      "metadata": {
        "colab": {
          "base_uri": "https://localhost:8080/"
        },
        "id": "HyN-LF3a0KoH",
        "outputId": "bf58d2ef-89b9-4136-b628-62ac6664e2a1"
      },
      "outputs": [
        {
          "output_type": "execute_result",
          "data": {
            "text/plain": [
              "(3, 5)"
            ]
          },
          "metadata": {},
          "execution_count": 4
        }
      ],
      "source": [
        "a.shape  # las dimensiones del array."
      ]
    },
    {
      "cell_type": "code",
      "execution_count": 5,
      "metadata": {
        "colab": {
          "base_uri": "https://localhost:8080/"
        },
        "id": "Omm9UPnA0KoI",
        "outputId": "e9d69a5b-373c-4e9c-a9fb-484491f8b70d"
      },
      "outputs": [
        {
          "output_type": "execute_result",
          "data": {
            "text/plain": [
              "2"
            ]
          },
          "metadata": {},
          "execution_count": 5
        }
      ],
      "source": [
        "a.ndim  # el número de ejes (dimensiones) del array."
      ]
    },
    {
      "cell_type": "code",
      "execution_count": 6,
      "metadata": {
        "colab": {
          "base_uri": "https://localhost:8080/"
        },
        "id": "BDNzK6CB0KoI",
        "outputId": "bfdb43ae-d736-4337-d2e3-f8e35fc67101"
      },
      "outputs": [
        {
          "output_type": "execute_result",
          "data": {
            "text/plain": [
              "15"
            ]
          },
          "metadata": {},
          "execution_count": 6
        }
      ],
      "source": [
        "a.size  # el número total de elementos en el array."
      ]
    },
    {
      "cell_type": "code",
      "execution_count": 7,
      "metadata": {
        "colab": {
          "base_uri": "https://localhost:8080/"
        },
        "id": "7BgTIMnf0KoJ",
        "outputId": "9ad80b27-d0ac-499d-ab72-a104985b0431"
      },
      "outputs": [
        {
          "output_type": "execute_result",
          "data": {
            "text/plain": [
              "dtype('int64')"
            ]
          },
          "metadata": {},
          "execution_count": 7
        }
      ],
      "source": [
        "a.dtype  # un objecto describiendo el tipo de los elementos en el array."
      ]
    },
    {
      "cell_type": "markdown",
      "metadata": {
        "id": "bNPABp3b0KoJ"
      },
      "source": [
        "### [Crear Numpy Arrays](https://numpy.org/doc/stable/reference/routines.array-creation.html)"
      ]
    },
    {
      "cell_type": "markdown",
      "metadata": {
        "id": "7ynqw6SP0KoK"
      },
      "source": [
        "Hay varias formas de crear arrays, el constructor básico es el que se utilizó hace unos momentos, `np.array`.\n",
        "\n",
        "El _type_ del array resultante es inferido de los datos proporcionados."
      ]
    },
    {
      "cell_type": "code",
      "execution_count": 8,
      "metadata": {
        "colab": {
          "base_uri": "https://localhost:8080/"
        },
        "id": "EK4e4p-l0KoK",
        "outputId": "56f95320-a2c9-4fb0-a592-09a3d3abfcb0"
      },
      "outputs": [
        {
          "output_type": "stream",
          "name": "stdout",
          "text": [
            "a_int: int64\n",
            "a_float: float64\n"
          ]
        }
      ],
      "source": [
        "a_int = np.array([4, 6, 10])\n",
        "a_float = np.array([1.33, 5, 8], )\n",
        "\n",
        "print(f\"a_int: {a_int.dtype}\")\n",
        "print(f\"a_float: {a_float.dtype}\")"
      ]
    },
    {
      "cell_type": "code",
      "execution_count": 9,
      "metadata": {
        "colab": {
          "base_uri": "https://localhost:8080/"
        },
        "id": "1cmeUA9k0KoK",
        "outputId": "fd1eb899-1234-44fb-bd93-b8a03c040297"
      },
      "outputs": [
        {
          "output_type": "execute_result",
          "data": {
            "text/plain": [
              "array([1.33, 5.  , 8.  ])"
            ]
          },
          "metadata": {},
          "execution_count": 9
        }
      ],
      "source": [
        "a_float"
      ]
    },
    {
      "cell_type": "markdown",
      "metadata": {
        "id": "f51t1x5V0KoL"
      },
      "source": [
        "También es posible utilizar otras estructuras de Python, como listas o tuplas."
      ]
    },
    {
      "cell_type": "code",
      "execution_count": 10,
      "metadata": {
        "colab": {
          "base_uri": "https://localhost:8080/"
        },
        "id": "wYiWbM_K0KoL",
        "outputId": "5469e670-e5eb-4959-fab5-e054083b9be6"
      },
      "outputs": [
        {
          "output_type": "execute_result",
          "data": {
            "text/plain": [
              "array([1, 1, 2, 3, 5])"
            ]
          },
          "metadata": {},
          "execution_count": 10
        }
      ],
      "source": [
        "a_list = [1, 1, 2, 3, 5]\n",
        "np.array(a_list)"
      ]
    },
    {
      "cell_type": "code",
      "execution_count": 11,
      "metadata": {
        "colab": {
          "base_uri": "https://localhost:8080/"
        },
        "id": "gswB3nn50KoL",
        "outputId": "c7a94826-73e8-4208-f7b0-49159bd6b0d7"
      },
      "outputs": [
        {
          "output_type": "execute_result",
          "data": {
            "text/plain": [
              "[1, 1, 2, 3, 5]"
            ]
          },
          "metadata": {},
          "execution_count": 11
        }
      ],
      "source": [
        "list(np.array(a_list))"
      ]
    },
    {
      "cell_type": "code",
      "execution_count": 12,
      "metadata": {
        "colab": {
          "base_uri": "https://localhost:8080/"
        },
        "id": "V5PtcI920KoM",
        "outputId": "324280ab-165d-48a8-ea0d-3ede092dbf49"
      },
      "outputs": [
        {
          "output_type": "execute_result",
          "data": {
            "text/plain": [
              "array([1, 1, 1, 3, 5, 9])"
            ]
          },
          "metadata": {},
          "execution_count": 12
        }
      ],
      "source": [
        "a_tuple = (1, 1, 1, 3, 5, 9)\n",
        "np.array(a_tuple)"
      ]
    },
    {
      "cell_type": "code",
      "execution_count": 13,
      "metadata": {
        "colab": {
          "base_uri": "https://localhost:8080/"
        },
        "id": "ZHESOSFh0KoM",
        "outputId": "6b491e0e-178b-4c69-b8da-c08e76b99495"
      },
      "outputs": [
        {
          "output_type": "execute_result",
          "data": {
            "text/plain": [
              "(1, 1, 1, 3, 5, 9)"
            ]
          },
          "metadata": {},
          "execution_count": 13
        }
      ],
      "source": [
        "tuple(np.array(a_tuple))"
      ]
    },
    {
      "cell_type": "markdown",
      "metadata": {
        "id": "LOPaVHf00KoM"
      },
      "source": [
        "__¡Cuidado!__ Es fácil confundirse con las dimensiones o el tipo de argumento en los contructores de NumPy, por ejemplo, utilizando una lista podríamos crear un arreglo de una o dos dimensiones si no tenemos cuidado."
      ]
    },
    {
      "cell_type": "code",
      "execution_count": 14,
      "metadata": {
        "colab": {
          "base_uri": "https://localhost:8080/"
        },
        "id": "jtFdebUx0KoM",
        "outputId": "076f85d1-58d9-4201-ca4d-d2e038186f5b"
      },
      "outputs": [
        {
          "output_type": "stream",
          "name": "stdout",
          "text": [
            "np.array(a_list) = [1 1 2 3 5] tiene shape: (5,), es decir, 1 dimensión(es).\n",
            "np.array([a_list]) = [[1 1 2 3 5]] tiene shape: (1, 5), es decir, 2 dimensión(es).\n"
          ]
        }
      ],
      "source": [
        "one_dim_array = np.array(a_list)\n",
        "two_dim_array = np.array([a_list])\n",
        "\n",
        "print(f\"np.array(a_list) = {one_dim_array} tiene shape: {one_dim_array.shape}, es decir, {one_dim_array.ndim} dimensión(es).\")\n",
        "print(f\"np.array([a_list]) = {two_dim_array} tiene shape: {two_dim_array.shape}, es decir, {two_dim_array.ndim} dimensión(es).\")"
      ]
    },
    {
      "cell_type": "markdown",
      "metadata": {
        "id": "FMFfykgX0KoM"
      },
      "source": [
        "Una funcionalidad útil son los constructores especiales a partir de constantes."
      ]
    },
    {
      "cell_type": "code",
      "execution_count": 15,
      "metadata": {
        "colab": {
          "base_uri": "https://localhost:8080/"
        },
        "id": "nVvLU3xx0KoN",
        "outputId": "3c480beb-258b-44b7-e524-015a27dae8cf"
      },
      "outputs": [
        {
          "output_type": "execute_result",
          "data": {
            "text/plain": [
              "array([[0, 0, 0, 0],\n",
              "       [0, 0, 0, 0],\n",
              "       [0, 0, 0, 0]])"
            ]
          },
          "metadata": {},
          "execution_count": 15
        }
      ],
      "source": [
        "np.zeros((3, 4), dtype = int)  # el tipo también puede ser especificado"
      ]
    },
    {
      "cell_type": "code",
      "execution_count": 16,
      "metadata": {
        "colab": {
          "base_uri": "https://localhost:8080/"
        },
        "id": "ptlq3oXC0KoN",
        "outputId": "6ff91e09-1256-4cc8-d06c-28cd0faf36b5"
      },
      "outputs": [
        {
          "output_type": "execute_result",
          "data": {
            "text/plain": [
              "array([[[1., 1., 1., 1.],\n",
              "        [1., 1., 1., 1.],\n",
              "        [1., 1., 1., 1.]],\n",
              "\n",
              "       [[1., 1., 1., 1.],\n",
              "        [1., 1., 1., 1.],\n",
              "        [1., 1., 1., 1.]]])"
            ]
          },
          "metadata": {},
          "execution_count": 16
        }
      ],
      "source": [
        "np.ones((2, 3, 4), dtype=float)"
      ]
    },
    {
      "cell_type": "code",
      "execution_count": 17,
      "metadata": {
        "colab": {
          "base_uri": "https://localhost:8080/"
        },
        "id": "XHwgdPiJ0KoN",
        "outputId": "4cf424f9-24b5-48d0-9194-91feb88de870"
      },
      "outputs": [
        {
          "output_type": "execute_result",
          "data": {
            "text/plain": [
              "array([[99, 99],\n",
              "       [99, 99],\n",
              "       [99, 99]])"
            ]
          },
          "metadata": {},
          "execution_count": 17
        }
      ],
      "source": [
        "np.full((3,2), 99)"
      ]
    },
    {
      "cell_type": "code",
      "execution_count": 18,
      "metadata": {
        "colab": {
          "base_uri": "https://localhost:8080/"
        },
        "id": "KF3VvYpC0KoO",
        "outputId": "39184b0c-d640-4f63-c40a-0daedd7800a6"
      },
      "outputs": [
        {
          "output_type": "execute_result",
          "data": {
            "text/plain": [
              "array([[1., 0., 0., 0.],\n",
              "       [0., 1., 0., 0.],\n",
              "       [0., 0., 1., 0.],\n",
              "       [0., 0., 0., 1.]])"
            ]
          },
          "metadata": {},
          "execution_count": 18
        }
      ],
      "source": [
        "np.identity(4)  # matriz identidad"
      ]
    },
    {
      "cell_type": "code",
      "execution_count": 19,
      "metadata": {
        "colab": {
          "base_uri": "https://localhost:8080/"
        },
        "id": "blSlnmZG0KoO",
        "outputId": "b005d3e3-c399-4b98-9ec0-bc597a95d2bc"
      },
      "outputs": [
        {
          "output_type": "execute_result",
          "data": {
            "text/plain": [
              "array([2, 2, 2, 2, 2])"
            ]
          },
          "metadata": {},
          "execution_count": 19
        }
      ],
      "source": [
        "np.full_like(one_dim_array, 2)"
      ]
    },
    {
      "cell_type": "markdown",
      "metadata": {
        "id": "ThxigS1X0KoO"
      },
      "source": [
        "Por otro lado, NumPy proporciona una función análoga a `range`."
      ]
    },
    {
      "cell_type": "code",
      "execution_count": 20,
      "metadata": {
        "colab": {
          "base_uri": "https://localhost:8080/"
        },
        "id": "-hLRXi-u0KoO",
        "outputId": "ec0ea7ea-f9c7-4a9c-9ab5-4bd49ea3e9ed"
      },
      "outputs": [
        {
          "output_type": "execute_result",
          "data": {
            "text/plain": [
              "range(0, 10)"
            ]
          },
          "metadata": {},
          "execution_count": 20
        }
      ],
      "source": [
        "range(10)"
      ]
    },
    {
      "cell_type": "code",
      "execution_count": 21,
      "metadata": {
        "colab": {
          "base_uri": "https://localhost:8080/"
        },
        "id": "f6wwiVEC0KoO",
        "outputId": "8910a234-e768-4dcd-d335-8dbc7d73eac8"
      },
      "outputs": [
        {
          "output_type": "execute_result",
          "data": {
            "text/plain": [
              "range"
            ]
          },
          "metadata": {},
          "execution_count": 21
        }
      ],
      "source": [
        "type(range(10))"
      ]
    },
    {
      "cell_type": "code",
      "execution_count": 22,
      "metadata": {
        "colab": {
          "base_uri": "https://localhost:8080/"
        },
        "id": "bYHp4AcZ0KoO",
        "outputId": "e2ece29e-3518-4eea-a52a-fcb0153a9018"
      },
      "outputs": [
        {
          "output_type": "execute_result",
          "data": {
            "text/plain": [
              "array([0, 1, 2, 3, 4, 5, 6, 7, 8, 9])"
            ]
          },
          "metadata": {},
          "execution_count": 22
        }
      ],
      "source": [
        "np.arange(10)"
      ]
    },
    {
      "cell_type": "code",
      "execution_count": 23,
      "metadata": {
        "colab": {
          "base_uri": "https://localhost:8080/"
        },
        "id": "JJjmpa1I0KoP",
        "outputId": "cf01d222-a655-4c5d-9893-82af365f1e30"
      },
      "outputs": [
        {
          "output_type": "execute_result",
          "data": {
            "text/plain": [
              "numpy.ndarray"
            ]
          },
          "metadata": {},
          "execution_count": 23
        }
      ],
      "source": [
        "type(np.arange(10))"
      ]
    },
    {
      "cell_type": "code",
      "execution_count": 24,
      "metadata": {
        "colab": {
          "base_uri": "https://localhost:8080/"
        },
        "id": "ZkkANpjO0KoY",
        "outputId": "c50059bb-2c54-465e-ef74-1f94d5227ec6"
      },
      "outputs": [
        {
          "output_type": "execute_result",
          "data": {
            "text/plain": [
              "array([3, 4, 5, 6, 7, 8, 9])"
            ]
          },
          "metadata": {},
          "execution_count": 24
        }
      ],
      "source": [
        "np.arange(3, 10)"
      ]
    },
    {
      "cell_type": "code",
      "execution_count": 25,
      "metadata": {
        "colab": {
          "base_uri": "https://localhost:8080/"
        },
        "id": "leXhB_jD0KoZ",
        "outputId": "2ecd06c3-ca36-46cb-c851-7c07133be9fd"
      },
      "outputs": [
        {
          "output_type": "execute_result",
          "data": {
            "text/plain": [
              "array([ 2.,  5.,  8., 11., 14., 17.])"
            ]
          },
          "metadata": {},
          "execution_count": 25
        }
      ],
      "source": [
        "np.arange(2, 20, 3, dtype=float)"
      ]
    },
    {
      "cell_type": "markdown",
      "metadata": {
        "id": "f6lNqYwh0KoZ"
      },
      "source": [
        "Utilizar `np.arange` tiene como _\"ingredientes\"_ el inicio (_start_), fin (_stop_) y el tamaño del espacio entre valores (_step_) y el largo (`len`) depende de estos argumentos.\n",
        "\n",
        "Sin embargo, existe la función `np.linspace` que construye un `np.array` con un inicio y un fin, pero indicando la cantidad de elementos. Está función es muy útil ya que genera puntos equiespaciados.\n",
        "\n",
        "`np.linspace(a,b,n)` genera `n` puntos equiespaciados en el intervalo cerrado `[a,b]`, con distancia entre puntos: `(b-a)/n`. Por ejemplo,"
      ]
    },
    {
      "cell_type": "code",
      "execution_count": 26,
      "metadata": {
        "colab": {
          "base_uri": "https://localhost:8080/"
        },
        "id": "ScbBdaK00KoZ",
        "outputId": "e0f04d45-8804-43c2-dbee-d4d0d28dd682"
      },
      "outputs": [
        {
          "output_type": "execute_result",
          "data": {
            "text/plain": [
              "array([  0.,  25.,  50.,  75., 100.])"
            ]
          },
          "metadata": {},
          "execution_count": 26
        }
      ],
      "source": [
        "np.linspace(0, 100, 5)"
      ]
    },
    {
      "cell_type": "markdown",
      "metadata": {
        "id": "GNp1-ERT0Koa"
      },
      "source": [
        "Esto puede causar confusión, pues recuerda que la indexación de Python (y por lo tanto NumPy) comienza en cero, por lo que si quieres replicar el `np.array` anterior con `np.arange` debes tener esto en consideración. Es decir:"
      ]
    },
    {
      "cell_type": "code",
      "execution_count": 27,
      "metadata": {
        "colab": {
          "base_uri": "https://localhost:8080/"
        },
        "id": "fR_Kvkpg0Koa",
        "outputId": "832e4891-29ef-418f-a721-a9208a0a2eaf"
      },
      "outputs": [
        {
          "output_type": "execute_result",
          "data": {
            "text/plain": [
              "array([ 0, 25, 50, 75])"
            ]
          },
          "metadata": {},
          "execution_count": 27
        }
      ],
      "source": [
        "np.arange(start=0, stop=100, step=25)  # stop = 100"
      ]
    },
    {
      "cell_type": "code",
      "execution_count": 28,
      "metadata": {
        "colab": {
          "base_uri": "https://localhost:8080/"
        },
        "id": "WjNtJLXz0Koa",
        "outputId": "1a68175f-9440-4eac-b860-73d184a07693"
      },
      "outputs": [
        {
          "output_type": "execute_result",
          "data": {
            "text/plain": [
              "array([  0,  25,  50,  75, 100])"
            ]
          },
          "metadata": {},
          "execution_count": 28
        }
      ],
      "source": [
        "np.arange(start=0, stop=101, step=25)  # stop = 101"
      ]
    },
    {
      "cell_type": "markdown",
      "metadata": {
        "id": "H749wF9S0Koa"
      },
      "source": [
        "También puedes obtener arrays con elementos aleatorios."
      ]
    },
    {
      "cell_type": "code",
      "execution_count": 29,
      "metadata": {
        "colab": {
          "base_uri": "https://localhost:8080/"
        },
        "id": "DS5A7u2p0Koa",
        "outputId": "1a6d79b9-06e3-4a73-e7fd-1487bf5bdc2e"
      },
      "outputs": [
        {
          "output_type": "execute_result",
          "data": {
            "text/plain": [
              "array([[0.55096492, 0.5032505 , 0.32230351],\n",
              "       [0.74958053, 0.6966525 , 0.13005801],\n",
              "       [0.43253454, 0.58420632, 0.80549026]])"
            ]
          },
          "metadata": {},
          "execution_count": 29
        }
      ],
      "source": [
        "np.random.random(size=(3,3))  # Elementos entre 0 y 1"
      ]
    },
    {
      "cell_type": "code",
      "execution_count": 30,
      "metadata": {
        "colab": {
          "base_uri": "https://localhost:8080/"
        },
        "id": "RHM3uxzL0Kob",
        "outputId": "53098ba7-4c6f-4323-9611-55472b2065b3"
      },
      "outputs": [
        {
          "output_type": "execute_result",
          "data": {
            "text/plain": [
              "array([[52, 31, 81, 23],\n",
              "       [26, 78, 34, 22]])"
            ]
          },
          "metadata": {},
          "execution_count": 30
        }
      ],
      "source": [
        "np.random.randint(low=2, high=99, size=(2,4))"
      ]
    },
    {
      "cell_type": "markdown",
      "metadata": {
        "id": "Me5t7LJk0Kob"
      },
      "source": [
        "Y desde ciertas distribuciones:"
      ]
    },
    {
      "cell_type": "code",
      "execution_count": 31,
      "metadata": {
        "colab": {
          "base_uri": "https://localhost:8080/"
        },
        "id": "tijX9_4Q0Kob",
        "outputId": "ebca944e-33a1-4ae6-fe5e-f8f1b9a4cdc3"
      },
      "outputs": [
        {
          "output_type": "execute_result",
          "data": {
            "text/plain": [
              "array([3.89218188, 3.25310212, 5.45818757, 4.9439271 , 4.82965009])"
            ]
          },
          "metadata": {},
          "execution_count": 31
        }
      ],
      "source": [
        "np.random.uniform(low=3, high=7, size=5)  # Desde una distribución uniforme"
      ]
    },
    {
      "cell_type": "code",
      "execution_count": 32,
      "metadata": {
        "scrolled": true,
        "colab": {
          "base_uri": "https://localhost:8080/"
        },
        "id": "unfIB-s00Kob",
        "outputId": "16d5af1a-626e-4232-94a5-2a171345224a"
      },
      "outputs": [
        {
          "output_type": "execute_result",
          "data": {
            "text/plain": [
              "array([[114.61775582, 105.66741391, 100.46064963],\n",
              "       [ 94.55297458,  86.52609207,  99.47271148]])"
            ]
          },
          "metadata": {},
          "execution_count": 32
        }
      ],
      "source": [
        "np.random.normal(loc=100, scale=10, size=(2, 3))   # Desde una distribución normal univariada indicando media y desviación estándar"
      ]
    },
    {
      "cell_type": "code",
      "execution_count": 33,
      "metadata": {
        "colab": {
          "base_uri": "https://localhost:8080/"
        },
        "id": "4e3vNzyk0Kob",
        "outputId": "adc39f52-0fd9-4d1c-db54-600c4c9b96be"
      },
      "outputs": [
        {
          "output_type": "execute_result",
          "data": {
            "text/plain": [
              "array([[1.56703616, 5.14291417],\n",
              "       [0.96136401, 2.77536304]])"
            ]
          },
          "metadata": {},
          "execution_count": 33
        }
      ],
      "source": [
        "np.random.chisquare(df=4, size=(2, 2))"
      ]
    },
    {
      "cell_type": "markdown",
      "metadata": {
        "id": "RXCZ7HKA0Koc"
      },
      "source": [
        "Dado un array existente, podemos cambiar su dimensión a nuestra conveniencia con el comando `reshape`, solo necesitamos saber la cantidad de elementos del array. Por ejemplo,"
      ]
    },
    {
      "cell_type": "code",
      "execution_count": 34,
      "metadata": {
        "colab": {
          "base_uri": "https://localhost:8080/"
        },
        "id": "7-3H9QmR0Koc",
        "outputId": "6e475763-bec7-484a-9a77-bd902f3cb973"
      },
      "outputs": [
        {
          "output_type": "execute_result",
          "data": {
            "text/plain": [
              "array([ 0,  1,  2,  3,  4,  5,  6,  7,  8,  9, 10, 11])"
            ]
          },
          "metadata": {},
          "execution_count": 34
        }
      ],
      "source": [
        "a = np.arange(12)\n",
        "a"
      ]
    },
    {
      "cell_type": "code",
      "execution_count": 35,
      "metadata": {
        "colab": {
          "base_uri": "https://localhost:8080/"
        },
        "id": "A_IHFHZd0Koc",
        "outputId": "d63af272-6801-4b91-9e0e-643f0c01d12e"
      },
      "outputs": [
        {
          "output_type": "execute_result",
          "data": {
            "text/plain": [
              "array([[ 0,  1,  2],\n",
              "       [ 3,  4,  5],\n",
              "       [ 6,  7,  8],\n",
              "       [ 9, 10, 11]])"
            ]
          },
          "metadata": {},
          "execution_count": 35
        }
      ],
      "source": [
        "b = a.reshape(4,3)\n",
        "b"
      ]
    },
    {
      "cell_type": "code",
      "execution_count": 36,
      "metadata": {
        "colab": {
          "base_uri": "https://localhost:8080/"
        },
        "id": "iTx2to7j0Koc",
        "outputId": "251fd90b-8bcd-4a2e-9993-c4fcd48d5be3"
      },
      "outputs": [
        {
          "output_type": "execute_result",
          "data": {
            "text/plain": [
              "array([ 0,  1,  2,  3,  4,  5,  6,  7,  8,  9, 10, 11])"
            ]
          },
          "metadata": {},
          "execution_count": 36
        }
      ],
      "source": [
        "b.reshape(np.size(b)) #revisar función np.ravel(), np.flatten()"
      ]
    },
    {
      "cell_type": "code",
      "execution_count": 37,
      "metadata": {
        "colab": {
          "base_uri": "https://localhost:8080/"
        },
        "id": "Duht6ULh0Koc",
        "outputId": "c94615de-3a90-408f-c588-561200126485"
      },
      "outputs": [
        {
          "output_type": "execute_result",
          "data": {
            "text/plain": [
              "array([ 0,  1,  2,  3,  4,  5,  6,  7,  8,  9, 10, 11])"
            ]
          },
          "metadata": {},
          "execution_count": 37
        }
      ],
      "source": [
        "np.ravel(b)"
      ]
    },
    {
      "cell_type": "code",
      "execution_count": 38,
      "metadata": {
        "colab": {
          "base_uri": "https://localhost:8080/"
        },
        "id": "Fmngczfj0Koc",
        "outputId": "c4f18003-3eef-4c78-bbd9-4957395a693f"
      },
      "outputs": [
        {
          "output_type": "execute_result",
          "data": {
            "text/plain": [
              "array([ 0,  1,  2,  3,  4,  5,  6,  7,  8,  9, 10, 11])"
            ]
          },
          "metadata": {},
          "execution_count": 38
        }
      ],
      "source": [
        "b.flatten()"
      ]
    },
    {
      "cell_type": "markdown",
      "metadata": {
        "id": "XGvmUjuB0Kod"
      },
      "source": [
        "### Acceder a los elementos de un array"
      ]
    },
    {
      "cell_type": "markdown",
      "metadata": {
        "id": "bDO5Bs9L0Kod"
      },
      "source": [
        "Es muy probable que necesites acceder a elementos o porciones de un array, para ello NumPy tiene una sintáxis consistente con Python."
      ]
    },
    {
      "cell_type": "code",
      "execution_count": 39,
      "metadata": {
        "colab": {
          "base_uri": "https://localhost:8080/"
        },
        "id": "xkF-uCo80Kod",
        "outputId": "760be371-8582-474d-c186-8f74bbf1ead8"
      },
      "outputs": [
        {
          "output_type": "stream",
          "name": "stdout",
          "text": [
            "x1=array([ 0,  4,  8, 12, 16, 20, 24, 28])\n",
            "x2=array([[ 0,  3,  6,  9, 12],\n",
            "       [15, 18, 21, 24, 27],\n",
            "       [30, 33, 36, 39, 42],\n",
            "       [45, 48, 51, 54, 57]])\n"
          ]
        }
      ],
      "source": [
        "x1 = np.arange(0, 30, 4)\n",
        "x2 = np.arange(0, 60, 3).reshape(4, 5)\n",
        "print(f\"{x1=}\\n{x2=}\")"
      ]
    },
    {
      "cell_type": "code",
      "execution_count": 40,
      "metadata": {
        "colab": {
          "base_uri": "https://localhost:8080/"
        },
        "id": "QA4UaJma0Kod",
        "outputId": "dcf49390-e6db-4c09-f399-bc39cd63e662"
      },
      "outputs": [
        {
          "output_type": "execute_result",
          "data": {
            "text/plain": [
              "4"
            ]
          },
          "metadata": {},
          "execution_count": 40
        }
      ],
      "source": [
        "x1[1]  # Un elemento de un array 1D"
      ]
    },
    {
      "cell_type": "code",
      "execution_count": 41,
      "metadata": {
        "colab": {
          "base_uri": "https://localhost:8080/"
        },
        "id": "QASO_kCS0Kod",
        "outputId": "98f30fb3-6ae7-4b89-a5fd-79c00b0c07bf"
      },
      "outputs": [
        {
          "output_type": "execute_result",
          "data": {
            "text/plain": [
              "array([0, 4, 8])"
            ]
          },
          "metadata": {},
          "execution_count": 41
        }
      ],
      "source": [
        "x1[:3]  # Los tres primeros elementos"
      ]
    },
    {
      "cell_type": "code",
      "execution_count": 42,
      "metadata": {
        "colab": {
          "base_uri": "https://localhost:8080/"
        },
        "id": "l6lad6mU0Kod",
        "outputId": "a44bad6e-6cee-4848-921a-a9aeee306f06"
      },
      "outputs": [
        {
          "output_type": "execute_result",
          "data": {
            "text/plain": [
              "array([28, 24, 20, 16, 12,  8,  4,  0])"
            ]
          },
          "metadata": {},
          "execution_count": 42
        }
      ],
      "source": [
        "x1[::-1] # En orden inverso"
      ]
    },
    {
      "cell_type": "markdown",
      "metadata": {
        "id": "5Bg1UhYH0Kod"
      },
      "source": [
        "Hasta aquí todo bien, los array de una dimensión se comportan como las listas. ¿Y si aumentamos la dimensión?"
      ]
    },
    {
      "cell_type": "code",
      "execution_count": 43,
      "metadata": {
        "colab": {
          "base_uri": "https://localhost:8080/"
        },
        "id": "UTdURTBM0Koe",
        "outputId": "60b14de4-65cf-4a0c-af06-27485ec38999"
      },
      "outputs": [
        {
          "output_type": "execute_result",
          "data": {
            "text/plain": [
              "6"
            ]
          },
          "metadata": {},
          "execution_count": 43
        }
      ],
      "source": [
        "x2[0,2] #=x2[0][2] # Un elemento de un array 2D"
      ]
    },
    {
      "cell_type": "code",
      "execution_count": 44,
      "metadata": {
        "colab": {
          "base_uri": "https://localhost:8080/"
        },
        "id": "9okUxsZC0Koe",
        "outputId": "2ef459e4-2e26-42c3-ef9f-49a394fa306f"
      },
      "outputs": [
        {
          "output_type": "execute_result",
          "data": {
            "text/plain": [
              "array([ 0,  3,  6,  9, 12])"
            ]
          },
          "metadata": {},
          "execution_count": 44
        }
      ],
      "source": [
        "x2[0]  # La primera fila"
      ]
    },
    {
      "cell_type": "code",
      "execution_count": 45,
      "metadata": {
        "colab": {
          "base_uri": "https://localhost:8080/"
        },
        "id": "qEISNKjR0Koe",
        "outputId": "7717a235-f256-468f-bab5-4065a8c3ea14"
      },
      "outputs": [
        {
          "output_type": "execute_result",
          "data": {
            "text/plain": [
              "array([ 3, 18, 33, 48])"
            ]
          },
          "metadata": {},
          "execution_count": 45
        }
      ],
      "source": [
        "x2[:, 1]  # Todas las filas y la segunda columna"
      ]
    },
    {
      "cell_type": "code",
      "execution_count": 46,
      "metadata": {
        "colab": {
          "base_uri": "https://localhost:8080/"
        },
        "id": "KRHCue9v0Koe",
        "outputId": "2398a4d9-728b-47b6-c95d-f2c819c18801"
      },
      "outputs": [
        {
          "output_type": "execute_result",
          "data": {
            "text/plain": [
              "array([[ 3,  6],\n",
              "       [18, 21],\n",
              "       [33, 36],\n",
              "       [48, 51]])"
            ]
          },
          "metadata": {},
          "execution_count": 46
        }
      ],
      "source": [
        "x2[:, 1:3]  # Todas las filas y de la segunda a la tercera columna"
      ]
    },
    {
      "cell_type": "markdown",
      "metadata": {
        "id": "Vt1ydh-e0Koe"
      },
      "source": [
        "Nuevamente, recordar que Python tiene indexación partiendo desde cero. Además, la dimensión del arreglo también depende de la forma en que se haga la selección."
      ]
    },
    {
      "cell_type": "code",
      "execution_count": 47,
      "metadata": {
        "colab": {
          "base_uri": "https://localhost:8080/"
        },
        "id": "HsU4L4Nh0Koe",
        "outputId": "c56b1347-b913-49c6-e859-5a20bd40a4b6"
      },
      "outputs": [
        {
          "output_type": "execute_result",
          "data": {
            "text/plain": [
              "array([ 6, 21, 36, 51])"
            ]
          },
          "metadata": {},
          "execution_count": 47
        }
      ],
      "source": [
        "x2[:, 2]"
      ]
    },
    {
      "cell_type": "code",
      "execution_count": 48,
      "metadata": {
        "colab": {
          "base_uri": "https://localhost:8080/"
        },
        "id": "viNaBJGZ0Koe",
        "outputId": "6f91607b-381b-4202-b198-b6a0ba868e48"
      },
      "outputs": [
        {
          "output_type": "execute_result",
          "data": {
            "text/plain": [
              "array([[ 6],\n",
              "       [21],\n",
              "       [36],\n",
              "       [51]])"
            ]
          },
          "metadata": {},
          "execution_count": 48
        }
      ],
      "source": [
        "x2[:, 2:3]"
      ]
    },
    {
      "cell_type": "markdown",
      "metadata": {
        "id": "twoZLmQx0Kof"
      },
      "source": [
        "En el ejemplo anterior los valores son los mismos, pero las dimensiones no. En el primero se utiliza `indexing` para acceder a la tercera columna, mientras que en el segundo `slicing` para acceder desde la tercera columna a la tercera columna."
      ]
    },
    {
      "cell_type": "code",
      "execution_count": 49,
      "metadata": {
        "colab": {
          "base_uri": "https://localhost:8080/"
        },
        "id": "9Chx6iqg0Kof",
        "outputId": "50974a5d-2f01-424d-ac21-6e7c803c8171"
      },
      "outputs": [
        {
          "output_type": "stream",
          "name": "stdout",
          "text": [
            "(4,)\n",
            "(4, 1)\n"
          ]
        }
      ],
      "source": [
        "print(x2[:, 2].shape)\n",
        "print(x2[:, 2:3].shape)"
      ]
    },
    {
      "cell_type": "markdown",
      "metadata": {
        "id": "oXHqWLlB0Kof"
      },
      "source": [
        "### Operaciones Básicas"
      ]
    },
    {
      "cell_type": "markdown",
      "metadata": {
        "id": "DsNC5bWR0Kof"
      },
      "source": [
        "Una de las grandes utilidades de trabajar con Numpy es que provee operaciones vectorizadas, con tal de mejorar el rendimiento de la ejecución."
      ]
    },
    {
      "cell_type": "markdown",
      "metadata": {
        "id": "wOASclRR0Kof"
      },
      "source": [
        "Por ejemplo, pensemos en la suma de dos listas."
      ]
    },
    {
      "cell_type": "code",
      "execution_count": 50,
      "metadata": {
        "colab": {
          "base_uri": "https://localhost:8080/"
        },
        "id": "dtrzfBN40Kof",
        "outputId": "a8b64189-21e2-4b02-f342-378d06febb0b"
      },
      "outputs": [
        {
          "output_type": "stream",
          "name": "stdout",
          "text": [
            "[0, 1, 2, 3, 4]\n",
            "[2, 2, 2, 2, 2]\n",
            "[0, 1, 2, 3, 4, 2, 2, 2, 2, 2]\n"
          ]
        }
      ],
      "source": [
        "a = list(range(5))\n",
        "b = 5*[2]\n",
        "print(a)\n",
        "print(b)\n",
        "print(a+b)"
      ]
    },
    {
      "cell_type": "markdown",
      "metadata": {
        "id": "-loDEWyg0Kog"
      },
      "source": [
        "Si quisieramos sumar las listas elemento a elemento no nos sirve la suma de listas. Con los conocimientos repasados en la última ayudantía:"
      ]
    },
    {
      "cell_type": "code",
      "execution_count": 51,
      "metadata": {
        "colab": {
          "base_uri": "https://localhost:8080/"
        },
        "id": "kgZOfrrL0Kog",
        "outputId": "b4e100e2-f351-40d6-8655-b1b914214d24"
      },
      "outputs": [
        {
          "output_type": "execute_result",
          "data": {
            "text/plain": [
              "[2, 3, 4, 5, 6]"
            ]
          },
          "metadata": {},
          "execution_count": 51
        }
      ],
      "source": [
        "suma_de_listas = lambda a,b : [x+y for x,y in zip(a,b)]\n",
        "suma_de_listas(a,b)"
      ]
    },
    {
      "cell_type": "markdown",
      "metadata": {
        "id": "W5rqVB3q0Kog"
      },
      "source": [
        "Si aumentas la dimesión, aumenta la cantidad de `for`, lo cual a su vez aumenta el tiempo de ejecución. Esto con NumPy no sucede, pues está optimizado:"
      ]
    },
    {
      "cell_type": "code",
      "execution_count": 52,
      "metadata": {
        "colab": {
          "base_uri": "https://localhost:8080/"
        },
        "id": "gR4YRK0w0Kog",
        "outputId": "17674678-1552-4ec1-dce9-09d134621b43"
      },
      "outputs": [
        {
          "output_type": "stream",
          "name": "stdout",
          "text": [
            "A = array([0, 1, 2, 3, 4])\n",
            "B = array([2, 2, 2, 2, 2])\n",
            "A + B = array([2, 3, 4, 5, 6])\n"
          ]
        }
      ],
      "source": [
        "A = np.arange(5)\n",
        "B = np.full(5,2)\n",
        "print(f'{A = }\\n{B = }\\n{A + B = }')"
      ]
    },
    {
      "cell_type": "markdown",
      "metadata": {
        "id": "Z4cBTtOS0Koh"
      },
      "source": [
        "Las clásicas operaciones:"
      ]
    },
    {
      "cell_type": "code",
      "execution_count": 53,
      "metadata": {
        "colab": {
          "base_uri": "https://localhost:8080/"
        },
        "id": "Lm0irDr40Koh",
        "outputId": "8d6d9230-c61c-4467-907d-a3b2af2458f4"
      },
      "outputs": [
        {
          "output_type": "stream",
          "name": "stdout",
          "text": [
            "x      = array([0, 1, 2, 3, 4])\n",
            "x + 5  = array([5, 6, 7, 8, 9])\n",
            "x - 5  = array([-5, -4, -3, -2, -1])\n",
            "x * 2  = array([0, 2, 4, 6, 8])\n",
            "x / 2  = array([0. , 0.5, 1. , 1.5, 2. ])\n",
            "x // 2 = array([0, 0, 1, 1, 2])\n",
            "x ** 2 = array([ 0,  1,  4,  9, 16])\n",
            "x % 2  = array([0, 1, 0, 1, 0])\n"
          ]
        }
      ],
      "source": [
        "x = np.arange(5)\n",
        "print(f\"{x      = }\")\n",
        "print(f\"{x + 5  = }\")\n",
        "print(f\"{x - 5  = }\")\n",
        "print(f\"{x * 2  = }\")\n",
        "print(f\"{x / 2  = }\")\n",
        "print(f\"{x // 2 = }\")\n",
        "print(f\"{x ** 2 = }\")\n",
        "print(f\"{x % 2  = }\")"
      ]
    },
    {
      "cell_type": "markdown",
      "metadata": {
        "id": "K-xHhnfJ0Koh"
      },
      "source": [
        "¡Júntalos como quieras!"
      ]
    },
    {
      "cell_type": "code",
      "execution_count": 54,
      "metadata": {
        "colab": {
          "base_uri": "https://localhost:8080/"
        },
        "id": "Mnj4fxRT0Koh",
        "outputId": "974dab36-efb7-45aa-a9c8-8d42cd18cdda"
      },
      "outputs": [
        {
          "output_type": "execute_result",
          "data": {
            "text/plain": [
              "array([-12.25, -20.25, -30.25, -42.25, -56.25])"
            ]
          },
          "metadata": {},
          "execution_count": 54
        }
      ],
      "source": [
        "-(0.5 + x + 3) ** 2"
      ]
    },
    {
      "cell_type": "markdown",
      "metadata": {
        "id": "j9zmey2W0Koh"
      },
      "source": [
        "Podríamos estar todo el día hablando de operaciones, pero básicamente, si piensas en alguna operación lo suficientemente común, la puedes encontrar implementada en Numpy. Por ejemplo:"
      ]
    },
    {
      "cell_type": "code",
      "execution_count": 55,
      "metadata": {
        "colab": {
          "base_uri": "https://localhost:8080/"
        },
        "id": "TnGx12Tk0Koh",
        "outputId": "6b56122c-9dc0-4e80-ca63-299aabbf2e21"
      },
      "outputs": [
        {
          "output_type": "execute_result",
          "data": {
            "text/plain": [
              "array([12.25, 20.25, 30.25, 42.25, 56.25])"
            ]
          },
          "metadata": {},
          "execution_count": 55
        }
      ],
      "source": [
        "np.abs(-(0.5 + x + 3) ** 2)"
      ]
    },
    {
      "cell_type": "code",
      "execution_count": 56,
      "metadata": {
        "colab": {
          "base_uri": "https://localhost:8080/"
        },
        "id": "9AW8AUBk0Koh",
        "outputId": "45d99b70-010d-413f-e62d-7fcf4dd523f2"
      },
      "outputs": [
        {
          "output_type": "execute_result",
          "data": {
            "text/plain": [
              "array([1.60943791, 1.79175947, 1.94591015, 2.07944154, 2.19722458])"
            ]
          },
          "metadata": {},
          "execution_count": 56
        }
      ],
      "source": [
        "np.log(x + 5)"
      ]
    },
    {
      "cell_type": "code",
      "execution_count": 57,
      "metadata": {
        "colab": {
          "base_uri": "https://localhost:8080/"
        },
        "id": "wPrUO1C20Koi",
        "outputId": "1986802e-bbf9-4383-feea-7a7f55438893"
      },
      "outputs": [
        {
          "output_type": "execute_result",
          "data": {
            "text/plain": [
              "array([ 1.        ,  2.71828183,  7.3890561 , 20.08553692, 54.59815003])"
            ]
          },
          "metadata": {},
          "execution_count": 57
        }
      ],
      "source": [
        "np.exp(x)"
      ]
    },
    {
      "cell_type": "code",
      "execution_count": 58,
      "metadata": {
        "colab": {
          "base_uri": "https://localhost:8080/"
        },
        "id": "GojIdXP90Koi",
        "outputId": "c91573e2-ad21-4870-c1eb-7bc4b923acfe"
      },
      "outputs": [
        {
          "output_type": "execute_result",
          "data": {
            "text/plain": [
              "array([ 0.        ,  0.84147098,  0.90929743,  0.14112001, -0.7568025 ])"
            ]
          },
          "metadata": {},
          "execution_count": 58
        }
      ],
      "source": [
        "np.sin(x)"
      ]
    },
    {
      "cell_type": "markdown",
      "metadata": {
        "id": "bLmhxhK70Koi"
      },
      "source": [
        "Para dimensiones mayores la idea es la misma, pero siempre hay que tener cuidado con las dimensiones (`shape`) de los arrays."
      ]
    },
    {
      "cell_type": "code",
      "execution_count": 59,
      "metadata": {
        "colab": {
          "base_uri": "https://localhost:8080/"
        },
        "id": "m0iiNYbu0Koi",
        "outputId": "14bec657-7781-42ab-95ec-09748681ca51"
      },
      "outputs": [
        {
          "output_type": "stream",
          "name": "stdout",
          "text": [
            "A=array([[0, 1, 2],\n",
            "       [3, 4, 5],\n",
            "       [6, 7, 8]])\n",
            "B=array([[18,  7, 14],\n",
            "       [19, 14, 12],\n",
            "       [ 7, 11, 16]])\n"
          ]
        }
      ],
      "source": [
        "A = np.arange(9).reshape((3,3))\n",
        "B = np.random.randint(7,20,size=(3,3))\n",
        "print(f'{A=}\\n{B=}')"
      ]
    },
    {
      "cell_type": "code",
      "execution_count": 60,
      "metadata": {
        "colab": {
          "base_uri": "https://localhost:8080/"
        },
        "id": "iIj0Zpux0Koi",
        "outputId": "6908f512-4712-47b6-aaa9-94ebb69efedb"
      },
      "outputs": [
        {
          "output_type": "stream",
          "name": "stdout",
          "text": [
            "A + B: \n",
            "\n",
            "[[18  8 16]\n",
            " [22 18 17]\n",
            " [13 18 24]]\n",
            "\n",
            "--------------------------------------------------------------------------------\n",
            "\n",
            "A - B: \n",
            "\n",
            "[[-18  -6 -12]\n",
            " [-16 -10  -7]\n",
            " [ -1  -4  -8]]\n",
            "\n",
            "--------------------------------------------------------------------------------\n",
            "\n",
            "A * B: \n",
            "\n",
            "[[  0   7  28]\n",
            " [ 57  56  60]\n",
            " [ 42  77 128]]\n",
            "\n",
            "--------------------------------------------------------------------------------\n",
            "\n",
            "A / B: \n",
            "\n",
            "[[0.         0.14285714 0.14285714]\n",
            " [0.15789474 0.28571429 0.41666667]\n",
            " [0.85714286 0.63636364 0.5       ]]\n",
            "\n",
            "--------------------------------------------------------------------------------\n",
            "\n",
            "A @ B: \n",
            "\n",
            "[[ 33  36  44]\n",
            " [165 132 170]\n",
            " [297 228 296]]\n",
            "\n",
            "--------------------------------------------------------------------------------\n",
            "\n",
            "A.T: \n",
            "\n",
            "[[0 3 6]\n",
            " [1 4 7]\n",
            " [2 5 8]]\n"
          ]
        }
      ],
      "source": [
        "print(\"A + B: \\n\")\n",
        "print(A + B)\n",
        "print(\"\\n\" + \"-\" * 80 + \"\\n\")\n",
        "print(\"A - B: \\n\")\n",
        "print(A - B)\n",
        "print(\"\\n\" + \"-\" * 80 + \"\\n\")\n",
        "print(\"A * B: \\n\")\n",
        "print(A * B)  # Producto elemento a elemento, Hadamard Product busca las propiedades!\n",
        "print(\"\\n\" + \"-\" * 80 + \"\\n\")\n",
        "print(\"A / B: \\n\")\n",
        "print(A / B)  # División elemento a elemento\n",
        "print(\"\\n\" + \"-\" * 80 + \"\\n\")\n",
        "print(\"A @ B: \\n\")\n",
        "print(A @ B)  # Producto matricial\n",
        "print(\"\\n\" + \"-\" * 80 + \"\\n\")\n",
        "print(f'A.T: \\n\\n{A.T}') # Matriz Transpuesta"
      ]
    },
    {
      "cell_type": "markdown",
      "metadata": {
        "id": "B9x39BE30Koi"
      },
      "source": [
        "### Operaciones Booleanas"
      ]
    },
    {
      "cell_type": "code",
      "execution_count": 61,
      "metadata": {
        "colab": {
          "base_uri": "https://localhost:8080/"
        },
        "id": "YfAUUM7L0Koj",
        "outputId": "464e2744-b283-42a6-ab66-d73b5620682f"
      },
      "outputs": [
        {
          "output_type": "stream",
          "name": "stdout",
          "text": [
            "x      = array([0, 1, 2, 3, 4])\n",
            "x > 2  = array([False, False, False,  True,  True])\n",
            "x == 2 = array([False, False,  True, False, False])\n"
          ]
        }
      ],
      "source": [
        "print(f\"{x      = }\")\n",
        "print(f\"{x > 2  = }\")\n",
        "print(f\"{x == 2 = }\")"
      ]
    },
    {
      "cell_type": "code",
      "execution_count": 62,
      "metadata": {
        "colab": {
          "base_uri": "https://localhost:8080/"
        },
        "id": "vGtddgD80Koj",
        "outputId": "16f67d19-971f-47d1-8c9c-d837b1efb388"
      },
      "outputs": [
        {
          "output_type": "stream",
          "name": "stdout",
          "text": [
            "B1: \n",
            "\n",
            "[[ True  True  True]\n",
            " [False False  True]\n",
            " [False False False]]\n",
            "\n",
            "--------------------------------------------------------------------------------\n",
            "\n",
            "B2: \n",
            "\n",
            "[[False False False]\n",
            " [False False False]\n",
            " [ True  True  True]]\n",
            "\n",
            "--------------------------------------------------------------------------------\n",
            "\n",
            "~B1: \n",
            "\n",
            "[[False False False]\n",
            " [ True  True False]\n",
            " [ True  True  True]]\n",
            "\n",
            "--------------------------------------------------------------------------------\n",
            "\n",
            "B1 | B2 : \n",
            "\n",
            "[[ True  True  True]\n",
            " [False False  True]\n",
            " [ True  True  True]]\n",
            "\n",
            "--------------------------------------------------------------------------------\n",
            "\n",
            "B1 & B2 : \n",
            "\n",
            "[[False False False]\n",
            " [False False False]\n",
            " [False False False]]\n"
          ]
        }
      ],
      "source": [
        "aux1 = np.array([[1, 2, 3], [2, 3, 5], [1, 9, 6]])\n",
        "aux2 = np.array([[1, 2, 3], [3, 5, 5], [0, 8, 5]])\n",
        "\n",
        "B1 = aux1 == aux2\n",
        "B2 = aux1 > aux2\n",
        "\n",
        "print(\"B1: \\n\")\n",
        "print(B1)\n",
        "print(\"\\n\" + \"-\" * 80 + \"\\n\")\n",
        "print(\"B2: \\n\")\n",
        "print(B2)\n",
        "print(\"\\n\" + \"-\" * 80 + \"\\n\")\n",
        "print(\"~B1: \\n\")\n",
        "print(~B1)  # También puede ser np.logical_not(B1)\n",
        "print(\"\\n\" + \"-\" * 80 + \"\\n\")\n",
        "print(\"B1 | B2 : \\n\")\n",
        "print(B1 | B2)\n",
        "print(\"\\n\" + \"-\" * 80 + \"\\n\")\n",
        "print(\"B1 & B2 : \\n\")\n",
        "print(B1 & B2)"
      ]
    },
    {
      "cell_type": "markdown",
      "metadata": {
        "id": "x2BvGemn0Koj"
      },
      "source": [
        "### Broadcasting"
      ]
    },
    {
      "cell_type": "markdown",
      "metadata": {
        "id": "HcmyEo4C0Koj"
      },
      "source": [
        "¿Qué pasa si las dimensiones no coinciden? Observemos lo siguiente:"
      ]
    },
    {
      "cell_type": "code",
      "execution_count": 63,
      "metadata": {
        "colab": {
          "base_uri": "https://localhost:8080/"
        },
        "id": "vwh4JQH90Koj",
        "outputId": "d6c6d246-92b0-46fd-e49c-08a2f2914be9"
      },
      "outputs": [
        {
          "output_type": "execute_result",
          "data": {
            "text/plain": [
              "array([5, 6, 7])"
            ]
          },
          "metadata": {},
          "execution_count": 63
        }
      ],
      "source": [
        "a = np.array([0, 1, 2])\n",
        "b = np.array([5, 5, 5])\n",
        "a + b"
      ]
    },
    {
      "cell_type": "markdown",
      "metadata": {
        "id": "arVTorzV0Koj"
      },
      "source": [
        "Todo bien, dos arrays 1D de 3 elementos, la suma retorna un array de 3 elementos."
      ]
    },
    {
      "cell_type": "code",
      "execution_count": 64,
      "metadata": {
        "colab": {
          "base_uri": "https://localhost:8080/"
        },
        "id": "FFMW9IQF0Koj",
        "outputId": "e0cb56ef-f132-46ff-f4c6-5d91b3695583"
      },
      "outputs": [
        {
          "output_type": "execute_result",
          "data": {
            "text/plain": [
              "array([3, 4, 5])"
            ]
          },
          "metadata": {},
          "execution_count": 64
        }
      ],
      "source": [
        "a + 3"
      ]
    },
    {
      "cell_type": "markdown",
      "metadata": {
        "id": "w1KM8IdN0Kok"
      },
      "source": [
        "Sigue pareciendo normal, un array 1D de 3 elementos, se suma con un `int`, lo que retorna un array 1D de tres elementos."
      ]
    },
    {
      "cell_type": "code",
      "execution_count": 65,
      "metadata": {
        "colab": {
          "base_uri": "https://localhost:8080/"
        },
        "id": "tKHEbmVi0Kok",
        "outputId": "6889d21b-8f40-4fda-effd-fe2073175d1d"
      },
      "outputs": [
        {
          "output_type": "stream",
          "name": "stdout",
          "text": [
            "M = array([[1., 1., 1.],\n",
            "       [1., 1., 1.],\n",
            "       [1., 1., 1.]])\n",
            "a = array([0, 1, 2])\n"
          ]
        }
      ],
      "source": [
        "M = np.ones((3, 3))\n",
        "print(f'{M = }\\n{a = }')"
      ]
    },
    {
      "cell_type": "code",
      "execution_count": 66,
      "metadata": {
        "colab": {
          "base_uri": "https://localhost:8080/"
        },
        "id": "jFpuJTH40Kok",
        "outputId": "20344660-9535-4fae-dd12-8f8a66b0a29a"
      },
      "outputs": [
        {
          "output_type": "execute_result",
          "data": {
            "text/plain": [
              "array([[1., 2., 3.],\n",
              "       [1., 2., 3.],\n",
              "       [1., 2., 3.]])"
            ]
          },
          "metadata": {},
          "execution_count": 66
        }
      ],
      "source": [
        "M + a"
      ]
    },
    {
      "cell_type": "markdown",
      "metadata": {
        "id": "tr9gNS2q0Kok"
      },
      "source": [
        "Magia! Esto es _broadcasting_. Una pequeña infografía para digerirlo:"
      ]
    },
    {
      "cell_type": "markdown",
      "metadata": {
        "id": "g1J2RzhT0Kok"
      },
      "source": [
        "![](https://jakevdp.github.io/PythonDataScienceHandbook/figures/02.05-broadcasting.png)"
      ]
    },
    {
      "cell_type": "markdown",
      "metadata": {
        "id": "x4-N9gvQ0Kok"
      },
      "source": [
        "Resumen: A lo menos los dos arrays deben coincidir en una dimensión. Luego, el array de dimensión menor se extiende con tal de ajustarse a las dimensiones del otro.\n",
        "\n",
        "La documentación oficial de estas reglas la puedes encontrar [aquí](https://numpy.org/devdocs/user/basics.broadcasting.html)."
      ]
    },
    {
      "cell_type": "markdown",
      "metadata": {
        "id": "sdynSFjt0Kok"
      },
      "source": [
        "### [Joining Arrays](https://numpy.org/devdocs/reference/routines.array-manipulation.html#joining-arrays)"
      ]
    },
    {
      "cell_type": "markdown",
      "metadata": {
        "id": "aHOetawl0Kol"
      },
      "source": [
        "NumPy ofrece varias funciones para unir o combinar ``arrays`` de diferentes formas y dimensiones (`shape`). Las operaciones de unión más comunes son:"
      ]
    },
    {
      "cell_type": "markdown",
      "metadata": {
        "id": "VgO04ehG0Kol"
      },
      "source": [
        "* `np.concatenate`: Esta función se utiliza para concatenar arrays a lo largo de un eje específico. Los arrays deben tener las mismas dimensiones en todos los ejes excepto el eje de concatenación."
      ]
    },
    {
      "cell_type": "code",
      "execution_count": 67,
      "metadata": {
        "colab": {
          "base_uri": "https://localhost:8080/"
        },
        "id": "M-Xa3q_N0Kol",
        "outputId": "8f997a1a-c505-4f83-fc32-b4c3880ee2bf"
      },
      "outputs": [
        {
          "output_type": "execute_result",
          "data": {
            "text/plain": [
              "array([[ 0,  1,  2],\n",
              "       [ 3,  4,  5],\n",
              "       [ 6,  7,  8],\n",
              "       [ 9, 10, 11],\n",
              "       [12, 13, 14],\n",
              "       [15, 16, 17]])"
            ]
          },
          "metadata": {},
          "execution_count": 67
        }
      ],
      "source": [
        "arr1 = np.arange(9).reshape(3,3)\n",
        "\n",
        "arr2 = np.arange(9,18).reshape(3,3)\n",
        "\n",
        "result = np.concatenate((arr1, arr2), axis = 0)\n",
        "result"
      ]
    },
    {
      "cell_type": "markdown",
      "metadata": {
        "id": "pAIlIqz30Kol"
      },
      "source": [
        "* ``np.vstack`` y ``np.hstack``: Estas funciones se utilizan para apilar arrays verticalmente y horizontalmente, respectivamente."
      ]
    },
    {
      "cell_type": "code",
      "execution_count": 68,
      "metadata": {
        "colab": {
          "base_uri": "https://localhost:8080/"
        },
        "id": "jKBBnQQe0Kol",
        "outputId": "4ab340a6-05a9-4834-ae5c-0a7c84278db6"
      },
      "outputs": [
        {
          "output_type": "stream",
          "name": "stdout",
          "text": [
            "Vertical Stack:\n",
            "[[1 2 3]\n",
            " [4 5 6]]\n",
            "Horizontal Stack:\n",
            "[1 2 3 4 5 6]\n"
          ]
        }
      ],
      "source": [
        "arr1 = np.array([1, 2, 3])\n",
        "arr2 = np.array([4, 5, 6])\n",
        "\n",
        "result_vstack = np.vstack((arr1, arr2))\n",
        "result_hstack = np.hstack((arr1, arr2))\n",
        "\n",
        "print(\"Vertical Stack:\")\n",
        "print(result_vstack)\n",
        "\n",
        "print(\"Horizontal Stack:\")\n",
        "print(result_hstack)"
      ]
    },
    {
      "cell_type": "markdown",
      "metadata": {
        "id": "wuNrcEan0Kol"
      },
      "source": [
        "* `np.stack`: Esta función apila arrays a lo largo de un nuevo eje, requiere que todos los arrays tengan la misma dimensión."
      ]
    },
    {
      "cell_type": "code",
      "execution_count": 69,
      "metadata": {
        "colab": {
          "base_uri": "https://localhost:8080/"
        },
        "id": "Ip8nqciD0Kol",
        "outputId": "d0de8a8b-3ab6-4a05-8697-a66b7099d391"
      },
      "outputs": [
        {
          "output_type": "stream",
          "name": "stdout",
          "text": [
            "[[[ 0  9]\n",
            "  [ 1 10]\n",
            "  [ 2 11]]\n",
            "\n",
            " [[ 3 12]\n",
            "  [ 4 13]\n",
            "  [ 5 14]]\n",
            "\n",
            " [[ 6 15]\n",
            "  [ 7 16]\n",
            "  [ 8 17]]]\n"
          ]
        },
        {
          "output_type": "execute_result",
          "data": {
            "text/plain": [
              "(3, 3, 2)"
            ]
          },
          "metadata": {},
          "execution_count": 69
        }
      ],
      "source": [
        "arr1 = np.arange(9).reshape(3,3)\n",
        "\n",
        "arr2 = np.arange(9,18).reshape(3,3)\n",
        "\n",
        "result = np.stack((arr1, arr2), axis=2)\n",
        "print(result)\n",
        "result.shape"
      ]
    },
    {
      "cell_type": "markdown",
      "metadata": {
        "id": "-3qgkn1z0Kon"
      },
      "source": [
        "### Extras"
      ]
    },
    {
      "cell_type": "markdown",
      "metadata": {
        "id": "QnBddg8o0Kon"
      },
      "source": [
        "En ocasiones nos gustaría aplicar funciones definidas por nosotros a cada elemento de un array para aprovechar la vectorización que nos ofrece NumPy, pero si se involucran condicionales (if, elif, else) puede haber problemas. El siguiente ejemplo lo explica mejor,"
      ]
    },
    {
      "cell_type": "code",
      "execution_count": 70,
      "metadata": {
        "colab": {
          "base_uri": "https://localhost:8080/"
        },
        "id": "BVCl9uS20Kon",
        "outputId": "c61ab4b4-94ef-4f6f-ae20-4a36d8ae4c69"
      },
      "outputs": [
        {
          "output_type": "stream",
          "name": "stdout",
          "text": [
            "f(0.9) = 1\n",
            "f(0.1) = 0\n"
          ]
        }
      ],
      "source": [
        "f = lambda x: 1 if x > 0.5 else 0 # Decidimos la cara de una moneda\n",
        "print(f'{f(0.9) = }\\n{f(0.1) = }')"
      ]
    },
    {
      "cell_type": "markdown",
      "metadata": {
        "id": "qK5oI5HJ0Kon"
      },
      "source": [
        "La operación es sencilla, si el valor es mayor que $0.5$ retorna $1$, en caso contrario retorna $0$. ¿Qué pasa si queremos aplicarselo a un array?"
      ]
    },
    {
      "cell_type": "code",
      "execution_count": 71,
      "metadata": {
        "colab": {
          "base_uri": "https://localhost:8080/",
          "height": 262
        },
        "id": "u1Mu0WYC0Koo",
        "outputId": "ed4d5d53-41a0-47f7-a396-8ccb4c1bc6d1"
      },
      "outputs": [
        {
          "output_type": "error",
          "ename": "ValueError",
          "evalue": "ignored",
          "traceback": [
            "\u001b[0;31m---------------------------------------------------------------------------\u001b[0m",
            "\u001b[0;31mValueError\u001b[0m                                Traceback (most recent call last)",
            "\u001b[0;32m<ipython-input-71-58a5572bc18d>\u001b[0m in \u001b[0;36m<cell line: 2>\u001b[0;34m()\u001b[0m\n\u001b[1;32m      1\u001b[0m \u001b[0mx\u001b[0m \u001b[0;34m=\u001b[0m \u001b[0mnp\u001b[0m\u001b[0;34m.\u001b[0m\u001b[0mrandom\u001b[0m\u001b[0;34m.\u001b[0m\u001b[0muniform\u001b[0m\u001b[0;34m(\u001b[0m\u001b[0;36m0\u001b[0m\u001b[0;34m,\u001b[0m\u001b[0;36m1\u001b[0m\u001b[0;34m,\u001b[0m\u001b[0;36m100\u001b[0m\u001b[0;34m)\u001b[0m \u001b[0;31m# 100 realizaciones de una Uniforme[0,1]\u001b[0m\u001b[0;34m\u001b[0m\u001b[0;34m\u001b[0m\u001b[0m\n\u001b[0;32m----> 2\u001b[0;31m \u001b[0mf\u001b[0m\u001b[0;34m(\u001b[0m\u001b[0mx\u001b[0m\u001b[0;34m)\u001b[0m\u001b[0;34m\u001b[0m\u001b[0;34m\u001b[0m\u001b[0m\n\u001b[0m",
            "\u001b[0;32m<ipython-input-70-4626aace73f2>\u001b[0m in \u001b[0;36m<lambda>\u001b[0;34m(x)\u001b[0m\n\u001b[0;32m----> 1\u001b[0;31m \u001b[0mf\u001b[0m \u001b[0;34m=\u001b[0m \u001b[0;32mlambda\u001b[0m \u001b[0mx\u001b[0m\u001b[0;34m:\u001b[0m \u001b[0;36m1\u001b[0m \u001b[0;32mif\u001b[0m \u001b[0mx\u001b[0m \u001b[0;34m>\u001b[0m \u001b[0;36m0.5\u001b[0m \u001b[0;32melse\u001b[0m \u001b[0;36m0\u001b[0m \u001b[0;31m# Decidimos la cara de una moneda\u001b[0m\u001b[0;34m\u001b[0m\u001b[0;34m\u001b[0m\u001b[0m\n\u001b[0m\u001b[1;32m      2\u001b[0m \u001b[0mprint\u001b[0m\u001b[0;34m(\u001b[0m\u001b[0;34mf'{f(0.9) = }\\n{f(0.1) = }'\u001b[0m\u001b[0;34m)\u001b[0m\u001b[0;34m\u001b[0m\u001b[0;34m\u001b[0m\u001b[0m\n",
            "\u001b[0;31mValueError\u001b[0m: The truth value of an array with more than one element is ambiguous. Use a.any() or a.all()"
          ]
        }
      ],
      "source": [
        "x = np.random.uniform(0,1,100) # 100 realizaciones de una Uniforme[0,1]\n",
        "f(x)"
      ]
    },
    {
      "cell_type": "markdown",
      "metadata": {
        "id": "WRjpTsYp0Koo"
      },
      "source": [
        "Podemos usar la función `np.vectorize` que tal como dice su nombre vectoriza una función, lo que soluciona nuestro problema de ambigüedad."
      ]
    },
    {
      "cell_type": "code",
      "execution_count": 72,
      "metadata": {
        "colab": {
          "base_uri": "https://localhost:8080/"
        },
        "id": "eNDOLCrp0Koo",
        "outputId": "8c4a26a3-1981-4dfa-fde5-36984907a12e"
      },
      "outputs": [
        {
          "output_type": "execute_result",
          "data": {
            "text/plain": [
              "array([1, 0, 1, 1, 0, 1, 1, 1, 1, 0, 1, 0, 1, 0, 1, 1, 1, 0, 1, 0, 1, 0,\n",
              "       1, 1, 1, 1, 1, 0, 0, 0, 1, 1, 0, 0, 1, 0, 1, 1, 1, 1, 1, 0, 1, 0,\n",
              "       0, 1, 1, 1, 0, 1, 1, 1, 0, 1, 0, 0, 1, 1, 0, 0, 1, 0, 0, 1, 1, 1,\n",
              "       1, 0, 0, 0, 0, 0, 1, 0, 1, 0, 1, 1, 1, 1, 0, 1, 0, 0, 1, 1, 0, 0,\n",
              "       1, 0, 0, 0, 0, 0, 1, 1, 1, 0, 0, 0])"
            ]
          },
          "metadata": {},
          "execution_count": 72
        }
      ],
      "source": [
        "ff = np.vectorize(f)\n",
        "ff(x)"
      ]
    },
    {
      "cell_type": "markdown",
      "metadata": {
        "id": "-_u_HtYZ0Kop"
      },
      "source": [
        "Lamentablemente por tiempo no podemos revisar todas las funciones implementadas en NumPy :(\n",
        "\n",
        "Te invito a que las busques por tu cuenta, revisa la documentación de cada [rutina](https://numpy.org/devdocs/reference/routines.html) para que le saques provecho a todos sus argumentos.\n",
        "\n",
        "En particular, para otros cursos te puede ser útil el módulo de Álgebra Lineal ([np.linalg](https://numpy.org/doc/stable/reference/routines.linalg.html)).    "
      ]
    },
    {
      "cell_type": "markdown",
      "metadata": {
        "id": "O84u9V6v0Kop"
      },
      "source": [
        "## Ejercicio"
      ]
    },
    {
      "cell_type": "markdown",
      "metadata": {
        "id": "9x9hy7CO0Kop"
      },
      "source": [
        "El siguiente ejercicio fue extraído de esta [página](https://www.freecodecamp.org/espanol/learn/data-analysis-with-python/data-analysis-with-python-projects/mean-variance-standard-deviation-calculator).\n",
        "\n",
        "Crea una función llamada `calculate()` que use lo que hemos aprendido de Numpy para devolver la media, varianza, desviación estándar, máximo, mínimo, y suma de las filas, columnas y elementos en una matriz de 3 x 3.\n",
        "\n",
        "La entrada de la función debe ser una lista que contenga 9 valores. La función debe convertir la lista en una matriz numérica de 3 x 3, y luego devolver un diccionario que contenga la media, varianza, desviación estándar, máximo, mínimo, y suma a lo largo de ambos ejes y para la matriz aplanada.\n",
        "\n",
        "El diccionario retornado debería seguir este formato:\n",
        "\n",
        "```python\n",
        "{\n",
        "  'mean': [axis1, axis2, flattened],\n",
        "  'variance': [axis1, axis2, flattened],\n",
        "  'standard deviation': [axis1, axis2, flattened],\n",
        "  'max': [axis1, axis2, flattened],\n",
        "  'min': [axis1, axis2, flattened],\n",
        "  'sum': [axis1, axis2, flattened]\n",
        "}\n",
        "```\n",
        "\n",
        "Si una lista que contiene menos de 9 elementos es pasada a la función, debería levantar una excepción de ValueError con el mensaje: \"La lista debe contener nueve números\". Los valores en el diccionario devuelto deben ser listas y no matrices Numpy.\n",
        "\n",
        "Por ejemplo, ``calculate([0,1,2,3,4,5,6,7,8])`` debe regresar:\n",
        "\n",
        "```python\n",
        "{\n",
        "  'mean': [[3.0, 4.0, 5.0], [1.0, 4.0, 7.0], 4.0],\n",
        "  'variance': [[6.0, 6.0, 6.0],\n",
        "               [0.6666666666666666, 0.6666666666666666, 0.6666666666666666],\n",
        "                6.666666666666667],\n",
        "  'standard deviation': [[2.449489742783178, 2.449489742783178, 2.449489742783178],\n",
        "                         [0.816496580927726, 0.816496580927726, 0.816496580927726],\n",
        "                          2.581988897471611],\n",
        "  'max': [[6, 7, 8], [2, 5, 8], 8],\n",
        "  'min': [[0, 1, 2], [0, 3, 6], 0],\n",
        "  'sum': [[9, 12, 15], [3, 12, 21], 36]\n",
        "}\n",
        "```\n",
        "Te puede ser útil visitar estos links: [averages-and-variances](https://numpy.org/devdocs/reference/routines.statistics.html#averages-and-variances), [extrema-finding](https://numpy.org/devdocs/reference/routines.math.html#extrema-finding) y [sums-products-differences](https://numpy.org/devdocs/reference/routines.math.html#sums-products-differences)."
      ]
    },
    {
      "cell_type": "code",
      "execution_count": null,
      "metadata": {
        "id": "W2xHcFJA0Koq"
      },
      "outputs": [],
      "source": [
        "# COMPLETA EL CÓDIGO\n",
        "\n",
        "def calculate():\n",
        "    if ???:\n",
        "        raise ValueError(???)\n",
        "\n",
        "    ???\n",
        "\n",
        "    return ???"
      ]
    },
    {
      "cell_type": "code",
      "execution_count": 74,
      "metadata": {
        "id": "slLdFZiG0Kor"
      },
      "outputs": [],
      "source": [
        "def calculate(lista):\n",
        "    if len(lista) < 9:\n",
        "        raise ValueError('List must contain nine numbers.')\n",
        "    array = np.array(lista).reshape((3,3))\n",
        "    dicc = {'mean' : [list(array.mean(axis=0)),list(array.mean(axis=1)),array.mean()],\n",
        "            'variance': [list(array.var(axis=0)),list(array.var(axis=1)),array.var()],\n",
        "            'standard deviation': [list(array.std(axis=0)),list(array.std(axis=1)),array.std()],\n",
        "            'max': [list(array.max(axis=0)),list(array.max(axis=1)),array.max()],\n",
        "            'min': [list(array.min(axis=0)),list(array.min(axis=1)),array.min()],\n",
        "            'sum': [list(array.sum(axis=0)),list(array.sum(axis=1)),array.sum()]\n",
        "            }\n",
        "    return dicc"
      ]
    },
    {
      "cell_type": "markdown",
      "metadata": {
        "id": "AT01ROvk0Kor"
      },
      "source": [
        "Compara tus resultados.\n",
        "\n",
        "<!--\n",
        "ValueError, Exception, TypeError, SyntaxError\n",
        " -->"
      ]
    },
    {
      "cell_type": "code",
      "execution_count": 75,
      "metadata": {
        "colab": {
          "base_uri": "https://localhost:8080/"
        },
        "id": "DmbUW2r-0Kor",
        "outputId": "59b191c2-7385-4e46-ae09-d37b214a95c7"
      },
      "outputs": [
        {
          "output_type": "execute_result",
          "data": {
            "text/plain": [
              "{'mean': [[3.0, 4.0, 5.0], [1.0, 4.0, 7.0], 4.0],\n",
              " 'variance': [[6.0, 6.0, 6.0],\n",
              "  [0.6666666666666666, 0.6666666666666666, 0.6666666666666666],\n",
              "  6.666666666666667],\n",
              " 'standard deviation': [[2.449489742783178,\n",
              "   2.449489742783178,\n",
              "   2.449489742783178],\n",
              "  [0.816496580927726, 0.816496580927726, 0.816496580927726],\n",
              "  2.581988897471611],\n",
              " 'max': [[6, 7, 8], [2, 5, 8], 8],\n",
              " 'min': [[0, 1, 2], [0, 3, 6], 0],\n",
              " 'sum': [[9, 12, 15], [3, 12, 21], 36]}"
            ]
          },
          "metadata": {},
          "execution_count": 75
        }
      ],
      "source": [
        "calculate([0,1,2,3,4,5,6,7,8])"
      ]
    },
    {
      "cell_type": "markdown",
      "metadata": {
        "id": "zNKYgW-j0Kos"
      },
      "source": [
        "Aquí tienes otro ejemplos para que compares ;)"
      ]
    },
    {
      "cell_type": "markdown",
      "metadata": {
        "id": "6v8aRQcO0Kos"
      },
      "source": [
        "> `calculate([1,2])`\n",
        "\n",
        "```python\n",
        "ValueError: List must contain nine numbers.\n",
        "```"
      ]
    },
    {
      "cell_type": "code",
      "execution_count": 76,
      "metadata": {
        "colab": {
          "base_uri": "https://localhost:8080/",
          "height": 297
        },
        "id": "SUtJKXjX0Kos",
        "outputId": "de722226-c311-4bdc-f35f-4d9a8c7bafd9"
      },
      "outputs": [
        {
          "output_type": "error",
          "ename": "ValueError",
          "evalue": "ignored",
          "traceback": [
            "\u001b[0;31m---------------------------------------------------------------------------\u001b[0m",
            "\u001b[0;31mValueError\u001b[0m                                Traceback (most recent call last)",
            "\u001b[0;32m<ipython-input-76-d767207d0029>\u001b[0m in \u001b[0;36m<cell line: 1>\u001b[0;34m()\u001b[0m\n\u001b[0;32m----> 1\u001b[0;31m \u001b[0mcalculate\u001b[0m\u001b[0;34m(\u001b[0m\u001b[0;34m[\u001b[0m\u001b[0;36m1\u001b[0m\u001b[0;34m,\u001b[0m\u001b[0;36m2\u001b[0m\u001b[0;34m]\u001b[0m\u001b[0;34m)\u001b[0m\u001b[0;34m\u001b[0m\u001b[0;34m\u001b[0m\u001b[0m\n\u001b[0m",
            "\u001b[0;32m<ipython-input-74-a719f58fbbd8>\u001b[0m in \u001b[0;36mcalculate\u001b[0;34m(lista)\u001b[0m\n\u001b[1;32m      1\u001b[0m \u001b[0;32mdef\u001b[0m \u001b[0mcalculate\u001b[0m\u001b[0;34m(\u001b[0m\u001b[0mlista\u001b[0m\u001b[0;34m)\u001b[0m\u001b[0;34m:\u001b[0m\u001b[0;34m\u001b[0m\u001b[0;34m\u001b[0m\u001b[0m\n\u001b[1;32m      2\u001b[0m     \u001b[0;32mif\u001b[0m \u001b[0mlen\u001b[0m\u001b[0;34m(\u001b[0m\u001b[0mlista\u001b[0m\u001b[0;34m)\u001b[0m \u001b[0;34m<\u001b[0m \u001b[0;36m9\u001b[0m\u001b[0;34m:\u001b[0m\u001b[0;34m\u001b[0m\u001b[0;34m\u001b[0m\u001b[0m\n\u001b[0;32m----> 3\u001b[0;31m         \u001b[0;32mraise\u001b[0m \u001b[0mValueError\u001b[0m\u001b[0;34m(\u001b[0m\u001b[0;34m'List must contain nine numbers.'\u001b[0m\u001b[0;34m)\u001b[0m\u001b[0;34m\u001b[0m\u001b[0;34m\u001b[0m\u001b[0m\n\u001b[0m\u001b[1;32m      4\u001b[0m     \u001b[0marray\u001b[0m \u001b[0;34m=\u001b[0m \u001b[0mnp\u001b[0m\u001b[0;34m.\u001b[0m\u001b[0marray\u001b[0m\u001b[0;34m(\u001b[0m\u001b[0mlista\u001b[0m\u001b[0;34m)\u001b[0m\u001b[0;34m.\u001b[0m\u001b[0mreshape\u001b[0m\u001b[0;34m(\u001b[0m\u001b[0;34m(\u001b[0m\u001b[0;36m3\u001b[0m\u001b[0;34m,\u001b[0m\u001b[0;36m3\u001b[0m\u001b[0;34m)\u001b[0m\u001b[0;34m)\u001b[0m\u001b[0;34m\u001b[0m\u001b[0;34m\u001b[0m\u001b[0m\n\u001b[1;32m      5\u001b[0m     dicc = {'mean' : [list(array.mean(axis=0)),list(array.mean(axis=1)),array.mean()],\n",
            "\u001b[0;31mValueError\u001b[0m: List must contain nine numbers."
          ]
        }
      ],
      "source": [
        "calculate([1,2])"
      ]
    },
    {
      "cell_type": "markdown",
      "metadata": {
        "id": "5oLVtE3N0Kot"
      },
      "source": [
        "> ``calculate([2,6,2,8,4,0,1,5,7])``\n",
        "\n",
        "```python\n",
        "{\n",
        "    'mean': [[3.6666666666666665, 5.0, 3.0],\n",
        "             [3.3333333333333335, 4.0, 4.333333333333333],\n",
        "              3.888888888888889],\n",
        "    'variance': [[9.555555555555557, 0.6666666666666666, 8.666666666666666],\n",
        "                 [3.555555555555556, 10.666666666666666, 6.222222222222221],\n",
        "                  6.987654320987654],\n",
        "    'standard deviation': [[3.091206165165235, 0.816496580927726, 2.943920288775949],\n",
        "                           [1.8856180831641267, 3.265986323710904, 2.494438257849294],\n",
        "                            2.6434171674156266],\n",
        "    'max': [[8, 6, 7], [6, 8, 7], 8],\n",
        "    'min': [[1, 4, 0], [2, 0, 1], 0],\n",
        "    'sum': [[11, 15, 9], [10, 12, 13], 35]\n",
        "}\n",
        "```"
      ]
    },
    {
      "cell_type": "code",
      "execution_count": 77,
      "metadata": {
        "colab": {
          "base_uri": "https://localhost:8080/"
        },
        "id": "_CMt6Pkx0Kot",
        "outputId": "f0a963f8-a8de-40c0-e26e-8a54a4e0f7ea"
      },
      "outputs": [
        {
          "output_type": "execute_result",
          "data": {
            "text/plain": [
              "{'mean': [[3.6666666666666665, 5.0, 3.0],\n",
              "  [3.3333333333333335, 4.0, 4.333333333333333],\n",
              "  3.888888888888889],\n",
              " 'variance': [[9.555555555555557, 0.6666666666666666, 8.666666666666666],\n",
              "  [3.555555555555556, 10.666666666666666, 6.222222222222221],\n",
              "  6.987654320987654],\n",
              " 'standard deviation': [[3.091206165165235,\n",
              "   0.816496580927726,\n",
              "   2.943920288775949],\n",
              "  [1.8856180831641267, 3.265986323710904, 2.494438257849294],\n",
              "  2.6434171674156266],\n",
              " 'max': [[8, 6, 7], [6, 8, 7], 8],\n",
              " 'min': [[1, 4, 0], [2, 0, 1], 0],\n",
              " 'sum': [[11, 15, 9], [10, 12, 13], 35]}"
            ]
          },
          "metadata": {},
          "execution_count": 77
        }
      ],
      "source": [
        "calculate([2,6,2,8,4,0,1,5,7])"
      ]
    },
    {
      "cell_type": "markdown",
      "metadata": {
        "id": "aAoR3oND0Kou"
      },
      "source": [
        "> ``calculate([9,1,5,3,3,3,2,9,0])``\n",
        "```python\n",
        "{\n",
        "    'mean': [[4.666666666666667, 4.333333333333333, 2.6666666666666665],\n",
        "             [5.0, 3.0, 3.6666666666666665],\n",
        "              3.888888888888889],\n",
        "    'variance': [[9.555555555555555, 11.555555555555557, 4.222222222222222],\n",
        "                 [10.666666666666666, 0.0, 14.888888888888891],\n",
        "                  9.209876543209875],\n",
        "    'standard deviation': [[3.0912061651652345, 3.39934634239519, 2.0548046676563256],\n",
        "                           [3.265986323710904, 0.0, 3.8586123009300755],\n",
        "                            3.0347778408328137],\n",
        "  'max': [[9, 9, 5], [9, 3, 9], 9],\n",
        "  'min': [[2, 1, 0], [1, 3, 0], 0],\n",
        "  'sum': [[14, 13, 8], [15, 9, 11], 35]\n",
        "}\n",
        "```"
      ]
    },
    {
      "cell_type": "code",
      "execution_count": 78,
      "metadata": {
        "colab": {
          "base_uri": "https://localhost:8080/"
        },
        "id": "RcToPwXq0Kou",
        "outputId": "77ca5baf-0922-43a6-b667-f6c7265c315a"
      },
      "outputs": [
        {
          "output_type": "execute_result",
          "data": {
            "text/plain": [
              "{'mean': [[4.666666666666667, 4.333333333333333, 2.6666666666666665],\n",
              "  [5.0, 3.0, 3.6666666666666665],\n",
              "  3.888888888888889],\n",
              " 'variance': [[9.555555555555555, 11.555555555555557, 4.222222222222222],\n",
              "  [10.666666666666666, 0.0, 14.888888888888891],\n",
              "  9.209876543209875],\n",
              " 'standard deviation': [[3.0912061651652345,\n",
              "   3.39934634239519,\n",
              "   2.0548046676563256],\n",
              "  [3.265986323710904, 0.0, 3.8586123009300755],\n",
              "  3.0347778408328137],\n",
              " 'max': [[9, 9, 5], [9, 3, 9], 9],\n",
              " 'min': [[2, 1, 0], [1, 3, 0], 0],\n",
              " 'sum': [[14, 13, 8], [15, 9, 11], 35]}"
            ]
          },
          "metadata": {},
          "execution_count": 78
        }
      ],
      "source": [
        "calculate([9,1,5,3,3,3,2,9,0])"
      ]
    }
  ],
  "metadata": {
    "kernelspec": {
      "display_name": "Python 3 (ipykernel)",
      "language": "python",
      "name": "python3"
    },
    "language_info": {
      "codemirror_mode": {
        "name": "ipython",
        "version": 3
      },
      "file_extension": ".py",
      "mimetype": "text/x-python",
      "name": "python",
      "nbconvert_exporter": "python",
      "pygments_lexer": "ipython3",
      "version": "3.11.4"
    },
    "colab": {
      "provenance": [],
      "include_colab_link": true
    }
  },
  "nbformat": 4,
  "nbformat_minor": 0
}